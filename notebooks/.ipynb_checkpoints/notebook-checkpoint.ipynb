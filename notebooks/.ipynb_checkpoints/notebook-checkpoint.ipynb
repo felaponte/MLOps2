{
 "cells": [
  {
   "cell_type": "markdown",
   "id": "87073fe7-3426-4a80-bb73-266bd0db25ce",
   "metadata": {},
   "source": [
    "\"\"\"\n",
    "**2. Preparar el entorno y cargar el dataset\n",
    "\n",
    "Este notebook carga y preprocesa el dataset de covertype para realizar la selección de características y preparar el ambiente de desarrollo.\n",
    "\"\"\""
   ]
  },
  {
   "cell_type": "code",
   "execution_count": 1,
   "id": "33410355-a75e-4087-8bee-ca2884a1caee",
   "metadata": {
    "tags": []
   },
   "outputs": [],
   "source": [
    "# Importar librerías necesarias\n",
    "import os\n",
    "import requests\n",
    "import pandas as pd\n",
    "from pathlib import Path\n",
    "\n",
    "# Importar librerías para preprocesamiento y selección de características\n",
    "from dataclasses import dataclass\n",
    "from typing import List\n",
    "from sklearn.preprocessing import StandardScaler\n",
    "from sklearn.feature_selection import SelectKBest, f_classif"
   ]
  },
  {
   "cell_type": "markdown",
   "id": "b8122afb-582e-408a-8943-044d51ddd1a8",
   "metadata": {},
   "source": [
    "\"\"\"\n",
    "## 2.2 Cargar y explorar el dataset\n",
    "\"\"\"\n",
    "\n",
    "Se define el directorio donde se guardarán los datos y se descarga el dataset si aún no existe.\n",
    "\"\"\""
   ]
  },
  {
   "cell_type": "code",
   "execution_count": 2,
   "id": "66b7af2d-25fb-4f25-a4a5-5d3636e722f6",
   "metadata": {
    "tags": []
   },
   "outputs": [],
   "source": [
    "# Define el directorio donde se guardarán los datos y la ruta del archivo CSV\n",
    "_data_root = Path(\"./data/covertype\")\n",
    "_data_root.mkdir(parents=True, exist_ok=True)\n",
    "_data_filepath = _data_root / \"covertype_train.csv\""
   ]
  },
  {
   "cell_type": "code",
   "execution_count": 3,
   "id": "d12817af-366a-432a-b61e-1f14a9e0677a",
   "metadata": {
    "tags": []
   },
   "outputs": [
    {
     "name": "stdout",
     "output_type": "stream",
     "text": [
      "El dataset ya existe.\n"
     ]
    }
   ],
   "source": [
    "# Descargar el dataset si no existe, se descarga desde la URL\n",
    "if not _data_filepath.is_file():\n",
    "    #https://archive.ics.uci.edu/ml/machine-learning-databases/covtype/\n",
    "    url = \"https://docs.google.com/uc?export=download&id=1lVF1BCWLH4eXXV_YOJzjR7xZjj-wAGj9\"  \n",
    "    r = requests.get(url, allow_redirects=True, stream=True)\n",
    "    with open(_data_filepath, 'wb') as f:\n",
    "        f.write(r.content)\n",
    "    print(\"Dataset descargado.\")\n",
    "else:\n",
    "    print(\"El dataset ya existe.\")"
   ]
  },
  {
   "cell_type": "code",
   "execution_count": 4,
   "id": "fdf31ca7-c4f4-4566-9403-e276fed2e259",
   "metadata": {
    "tags": []
   },
   "outputs": [
    {
     "name": "stdout",
     "output_type": "stream",
     "text": [
      "Dimensiones del dataset: (116203, 13)\n"
     ]
    },
    {
     "data": {
      "text/html": [
       "<div>\n",
       "<style scoped>\n",
       "    .dataframe tbody tr th:only-of-type {\n",
       "        vertical-align: middle;\n",
       "    }\n",
       "\n",
       "    .dataframe tbody tr th {\n",
       "        vertical-align: top;\n",
       "    }\n",
       "\n",
       "    .dataframe thead th {\n",
       "        text-align: right;\n",
       "    }\n",
       "</style>\n",
       "<table border=\"1\" class=\"dataframe\">\n",
       "  <thead>\n",
       "    <tr style=\"text-align: right;\">\n",
       "      <th></th>\n",
       "      <th>Elevation</th>\n",
       "      <th>Aspect</th>\n",
       "      <th>Slope</th>\n",
       "      <th>Horizontal_Distance_To_Hydrology</th>\n",
       "      <th>Vertical_Distance_To_Hydrology</th>\n",
       "      <th>Horizontal_Distance_To_Roadways</th>\n",
       "      <th>Hillshade_9am</th>\n",
       "      <th>Hillshade_Noon</th>\n",
       "      <th>Hillshade_3pm</th>\n",
       "      <th>Horizontal_Distance_To_Fire_Points</th>\n",
       "      <th>Wilderness_Area</th>\n",
       "      <th>Soil_Type</th>\n",
       "      <th>Cover_Type</th>\n",
       "    </tr>\n",
       "  </thead>\n",
       "  <tbody>\n",
       "    <tr>\n",
       "      <th>0</th>\n",
       "      <td>2991</td>\n",
       "      <td>119</td>\n",
       "      <td>7</td>\n",
       "      <td>67</td>\n",
       "      <td>11</td>\n",
       "      <td>1015</td>\n",
       "      <td>233</td>\n",
       "      <td>234</td>\n",
       "      <td>133</td>\n",
       "      <td>1570</td>\n",
       "      <td>Commanche</td>\n",
       "      <td>C7202</td>\n",
       "      <td>1</td>\n",
       "    </tr>\n",
       "    <tr>\n",
       "      <th>1</th>\n",
       "      <td>2876</td>\n",
       "      <td>3</td>\n",
       "      <td>18</td>\n",
       "      <td>485</td>\n",
       "      <td>71</td>\n",
       "      <td>2495</td>\n",
       "      <td>192</td>\n",
       "      <td>202</td>\n",
       "      <td>144</td>\n",
       "      <td>1557</td>\n",
       "      <td>Commanche</td>\n",
       "      <td>C7757</td>\n",
       "      <td>1</td>\n",
       "    </tr>\n",
       "    <tr>\n",
       "      <th>2</th>\n",
       "      <td>3171</td>\n",
       "      <td>315</td>\n",
       "      <td>2</td>\n",
       "      <td>277</td>\n",
       "      <td>9</td>\n",
       "      <td>4374</td>\n",
       "      <td>213</td>\n",
       "      <td>237</td>\n",
       "      <td>162</td>\n",
       "      <td>1052</td>\n",
       "      <td>Rawah</td>\n",
       "      <td>C7745</td>\n",
       "      <td>0</td>\n",
       "    </tr>\n",
       "    <tr>\n",
       "      <th>3</th>\n",
       "      <td>3087</td>\n",
       "      <td>342</td>\n",
       "      <td>13</td>\n",
       "      <td>190</td>\n",
       "      <td>31</td>\n",
       "      <td>4774</td>\n",
       "      <td>193</td>\n",
       "      <td>221</td>\n",
       "      <td>166</td>\n",
       "      <td>752</td>\n",
       "      <td>Rawah</td>\n",
       "      <td>C7745</td>\n",
       "      <td>0</td>\n",
       "    </tr>\n",
       "    <tr>\n",
       "      <th>4</th>\n",
       "      <td>2835</td>\n",
       "      <td>158</td>\n",
       "      <td>10</td>\n",
       "      <td>212</td>\n",
       "      <td>41</td>\n",
       "      <td>3596</td>\n",
       "      <td>231</td>\n",
       "      <td>242</td>\n",
       "      <td>141</td>\n",
       "      <td>3280</td>\n",
       "      <td>Rawah</td>\n",
       "      <td>C4744</td>\n",
       "      <td>1</td>\n",
       "    </tr>\n",
       "  </tbody>\n",
       "</table>\n",
       "</div>"
      ],
      "text/plain": [
       "   Elevation  Aspect  Slope  Horizontal_Distance_To_Hydrology  \\\n",
       "0       2991     119      7                                67   \n",
       "1       2876       3     18                               485   \n",
       "2       3171     315      2                               277   \n",
       "3       3087     342     13                               190   \n",
       "4       2835     158     10                               212   \n",
       "\n",
       "   Vertical_Distance_To_Hydrology  Horizontal_Distance_To_Roadways  \\\n",
       "0                              11                             1015   \n",
       "1                              71                             2495   \n",
       "2                               9                             4374   \n",
       "3                              31                             4774   \n",
       "4                              41                             3596   \n",
       "\n",
       "   Hillshade_9am  Hillshade_Noon  Hillshade_3pm  \\\n",
       "0            233             234            133   \n",
       "1            192             202            144   \n",
       "2            213             237            162   \n",
       "3            193             221            166   \n",
       "4            231             242            141   \n",
       "\n",
       "   Horizontal_Distance_To_Fire_Points Wilderness_Area Soil_Type  Cover_Type  \n",
       "0                                1570       Commanche     C7202           1  \n",
       "1                                1557       Commanche     C7757           1  \n",
       "2                                1052           Rawah     C7745           0  \n",
       "3                                 752           Rawah     C7745           0  \n",
       "4                                3280           Rawah     C4744           1  "
      ]
     },
     "execution_count": 4,
     "metadata": {},
     "output_type": "execute_result"
    }
   ],
   "source": [
    "# Cargar el dataset en un DataFrame\n",
    "df = pd.read_csv(_data_filepath)\n",
    "print(\"Dimensiones del dataset:\", df.shape)\n",
    "# Mostrar las primeras 5 filas\n",
    "df.head()"
   ]
  },
  {
   "cell_type": "code",
   "execution_count": 5,
   "id": "e1521756-a1cf-4682-a87a-7e6e7ea40bad",
   "metadata": {
    "tags": []
   },
   "outputs": [
    {
     "name": "stdout",
     "output_type": "stream",
     "text": [
      "<class 'pandas.core.frame.DataFrame'>\n",
      "RangeIndex: 116203 entries, 0 to 116202\n",
      "Data columns (total 13 columns):\n",
      " #   Column                              Non-Null Count   Dtype \n",
      "---  ------                              --------------   ----- \n",
      " 0   Elevation                           116203 non-null  int64 \n",
      " 1   Aspect                              116203 non-null  int64 \n",
      " 2   Slope                               116203 non-null  int64 \n",
      " 3   Horizontal_Distance_To_Hydrology    116203 non-null  int64 \n",
      " 4   Vertical_Distance_To_Hydrology      116203 non-null  int64 \n",
      " 5   Horizontal_Distance_To_Roadways     116203 non-null  int64 \n",
      " 6   Hillshade_9am                       116203 non-null  int64 \n",
      " 7   Hillshade_Noon                      116203 non-null  int64 \n",
      " 8   Hillshade_3pm                       116203 non-null  int64 \n",
      " 9   Horizontal_Distance_To_Fire_Points  116203 non-null  int64 \n",
      " 10  Wilderness_Area                     116203 non-null  object\n",
      " 11  Soil_Type                           116203 non-null  object\n",
      " 12  Cover_Type                          116203 non-null  int64 \n",
      "dtypes: int64(11), object(2)\n",
      "memory usage: 11.5+ MB\n"
     ]
    }
   ],
   "source": [
    "# Mostrar información general del dataset\n",
    "df.info()"
   ]
  },
  {
   "cell_type": "markdown",
   "id": "aeec6da7-ec30-48d0-8666-de22943a340b",
   "metadata": {},
   "source": [
    "# 3. Selección de características\n",
    "\n",
    "Se utilizará un dataclass para almacenar la configuración de los datos, se eliminarán las columnas no numéricas,\n",
    "se realizará la selección de las mejores características, y se guardará el DataFrame preprocesado.\n",
    "\"\"\""
   ]
  },
  {
   "cell_type": "code",
   "execution_count": 6,
   "id": "4f23e19d-19ce-4062-884e-9d996531f2be",
   "metadata": {
    "tags": []
   },
   "outputs": [],
   "source": [
    "# Definir la configuración de los datos usando un dataclass\n",
    "@dataclass\n",
    "class DataConfig:\n",
    "    target_col: str\n",
    "    non_numeric_cols: List[str]\n",
    "    final_df_path: Path\n",
    "    \n",
    "# Definir data_root_prepro y crear el directorio si es necesario\n",
    "data_root_prepro = Path(\"./data_prepro\")\n",
    "data_root_prepro.mkdir(parents=True, exist_ok=True)\n",
    "    \n",
    "# Crear la instancia de configuración con los valores deseados\n",
    "config = DataConfig(\n",
    "    target_col=\"Cover_Type\",\n",
    "    non_numeric_cols=list(df.select_dtypes(include=['object']).columns),\n",
    "    final_df_path= data_root_prepro / \"covertype_preprocessed.csv\"\n",
    ")"
   ]
  },
  {
   "cell_type": "markdown",
   "id": "8f1096d2",
   "metadata": {},
   "source": [
    "\"\"\"\n",
    "## 3.1 Selección de las mejores características\n",
    "\n",
    "Se elimina las columnas no numéricas, se separan las características (X) y la etiqueta (y),\n",
    "se utiliza StandardScaler para normalizar los datos y SelectKBest con la función de puntuación f_classif para\n",
    "seleccionar las 8 mejores características.\n",
    "\"\"\""
   ]
  },
  {
   "cell_type": "markdown",
   "id": "7999a28f-87b9-432a-8620-7adb22699a49",
   "metadata": {},
   "source": [
    "La ejecución de la siguiente celda se omite mediante el comando %%script false --no-raise-error, ya que contiene la normalización de lso datos, un proceso que ya se realizó previamente según lo indicado en el documento."
   ]
  },
  {
   "cell_type": "markdown",
   "id": "f7556b1e-a0cd-4fb6-b34c-e90502b5cf9c",
   "metadata": {},
   "source": [
    "**\"Recuerde que primero debe preparar las características de entrada y de destino:\""
   ]
  },
  {
   "cell_type": "markdown",
   "id": "5c2e44b8-3715-4d40-a726-f31b2561256f",
   "metadata": {},
   "source": [
    "Sin embargo, más adelante en el documento se asume que los datos conservan sus valores originales, por lo que la normalización se aplica posteriormente utilizando las herramientas de TFX."
   ]
  },
  {
   "cell_type": "code",
   "execution_count": 7,
   "id": "644d46e8-986b-47a7-ad22-abfb4725e6e4",
   "metadata": {
    "tags": []
   },
   "outputs": [
    {
     "data": {
      "text/html": [
       "<div>\n",
       "<style scoped>\n",
       "    .dataframe tbody tr th:only-of-type {\n",
       "        vertical-align: middle;\n",
       "    }\n",
       "\n",
       "    .dataframe tbody tr th {\n",
       "        vertical-align: top;\n",
       "    }\n",
       "\n",
       "    .dataframe thead th {\n",
       "        text-align: right;\n",
       "    }\n",
       "</style>\n",
       "<table border=\"1\" class=\"dataframe\">\n",
       "  <thead>\n",
       "    <tr style=\"text-align: right;\">\n",
       "      <th></th>\n",
       "      <th>Column</th>\n",
       "      <th>Retain</th>\n",
       "    </tr>\n",
       "  </thead>\n",
       "  <tbody>\n",
       "    <tr>\n",
       "      <th>0</th>\n",
       "      <td>Elevation</td>\n",
       "      <td>True</td>\n",
       "    </tr>\n",
       "    <tr>\n",
       "      <th>1</th>\n",
       "      <td>Aspect</td>\n",
       "      <td>False</td>\n",
       "    </tr>\n",
       "    <tr>\n",
       "      <th>2</th>\n",
       "      <td>Slope</td>\n",
       "      <td>True</td>\n",
       "    </tr>\n",
       "    <tr>\n",
       "      <th>3</th>\n",
       "      <td>Horizontal_Distance_To_Hydrology</td>\n",
       "      <td>True</td>\n",
       "    </tr>\n",
       "    <tr>\n",
       "      <th>4</th>\n",
       "      <td>Vertical_Distance_To_Hydrology</td>\n",
       "      <td>True</td>\n",
       "    </tr>\n",
       "    <tr>\n",
       "      <th>5</th>\n",
       "      <td>Horizontal_Distance_To_Roadways</td>\n",
       "      <td>True</td>\n",
       "    </tr>\n",
       "    <tr>\n",
       "      <th>6</th>\n",
       "      <td>Hillshade_9am</td>\n",
       "      <td>True</td>\n",
       "    </tr>\n",
       "    <tr>\n",
       "      <th>7</th>\n",
       "      <td>Hillshade_Noon</td>\n",
       "      <td>True</td>\n",
       "    </tr>\n",
       "    <tr>\n",
       "      <th>8</th>\n",
       "      <td>Hillshade_3pm</td>\n",
       "      <td>False</td>\n",
       "    </tr>\n",
       "    <tr>\n",
       "      <th>9</th>\n",
       "      <td>Horizontal_Distance_To_Fire_Points</td>\n",
       "      <td>True</td>\n",
       "    </tr>\n",
       "  </tbody>\n",
       "</table>\n",
       "</div>"
      ],
      "text/plain": [
       "                               Column  Retain\n",
       "0                           Elevation    True\n",
       "1                              Aspect   False\n",
       "2                               Slope    True\n",
       "3    Horizontal_Distance_To_Hydrology    True\n",
       "4      Vertical_Distance_To_Hydrology    True\n",
       "5     Horizontal_Distance_To_Roadways    True\n",
       "6                       Hillshade_9am    True\n",
       "7                      Hillshade_Noon    True\n",
       "8                       Hillshade_3pm   False\n",
       "9  Horizontal_Distance_To_Fire_Points    True"
      ]
     },
     "execution_count": 7,
     "metadata": {},
     "output_type": "execute_result"
    }
   ],
   "source": [
    "# %% [code] tags=[]\n",
    "# Eliminar las columnas no numéricas\n",
    "df_1 = df.drop(columns=config.non_numeric_cols)\n",
    "\n",
    "# Separar las características y la etiqueta\n",
    "X = df_1.drop(columns=[config.target_col])\n",
    "y = df_1[config.target_col].astype('category')\n",
    "\n",
    "# Normalizar los datos\n",
    "scaler = StandardScaler()\n",
    "X_scaled = scaler.fit_transform(X)\n",
    "# Convertir de nuevo a DataFrame, manteniendo los nombres originales\n",
    "X_scaled = pd.DataFrame(X_scaled, columns=X.columns)\n",
    "\n",
    "# Seleccionar las 8 mejores características usando f_classif\n",
    "selector = SelectKBest(score_func=f_classif, k=8)\n",
    "selector.fit(X, y)\n",
    "\n",
    "# Crear un DataFrame que muestre qué columnas se retuvieron\n",
    "selected_columns_df = pd.DataFrame({\n",
    "    'Column': X.columns,\n",
    "    'Retain': selector.get_support()\n",
    "})\n",
    "selected_columns_df"
   ]
  },
  {
   "cell_type": "code",
   "execution_count": 8,
   "id": "dcaec2ec-76cc-4c64-9851-90091a0ae9a8",
   "metadata": {
    "tags": []
   },
   "outputs": [
    {
     "name": "stdout",
     "output_type": "stream",
     "text": [
      "DataFrame preprocesado guardado en: data_prepro/covertype_preprocessed.csv\n"
     ]
    }
   ],
   "source": [
    "# %% [code] tags=[]\n",
    "# Seleccionar las mejores características y agregar la etiqueta de vuelta\n",
    "X_selected = X.loc[:, selector.get_support()]\n",
    "final_df = X_selected.copy()\n",
    "final_df[config.target_col] = y.values\n",
    "\n",
    "# Guardar el DataFrame preprocesado\n",
    "final_df.to_csv(config.final_df_path, index=False)\n",
    "print(\"DataFrame preprocesado guardado en:\", config.final_df_path)"
   ]
  },
  {
   "cell_type": "code",
   "execution_count": 9,
   "id": "49f8f6ea-fa51-4f98-ab38-36a1a526c1a7",
   "metadata": {
    "tags": []
   },
   "outputs": [
    {
     "data": {
      "text/html": [
       "<div>\n",
       "<style scoped>\n",
       "    .dataframe tbody tr th:only-of-type {\n",
       "        vertical-align: middle;\n",
       "    }\n",
       "\n",
       "    .dataframe tbody tr th {\n",
       "        vertical-align: top;\n",
       "    }\n",
       "\n",
       "    .dataframe thead th {\n",
       "        text-align: right;\n",
       "    }\n",
       "</style>\n",
       "<table border=\"1\" class=\"dataframe\">\n",
       "  <thead>\n",
       "    <tr style=\"text-align: right;\">\n",
       "      <th></th>\n",
       "      <th>Elevation</th>\n",
       "      <th>Slope</th>\n",
       "      <th>Horizontal_Distance_To_Hydrology</th>\n",
       "      <th>Vertical_Distance_To_Hydrology</th>\n",
       "      <th>Horizontal_Distance_To_Roadways</th>\n",
       "      <th>Hillshade_9am</th>\n",
       "      <th>Hillshade_Noon</th>\n",
       "      <th>Horizontal_Distance_To_Fire_Points</th>\n",
       "      <th>Cover_Type</th>\n",
       "    </tr>\n",
       "  </thead>\n",
       "  <tbody>\n",
       "    <tr>\n",
       "      <th>0</th>\n",
       "      <td>2991</td>\n",
       "      <td>7</td>\n",
       "      <td>67</td>\n",
       "      <td>11</td>\n",
       "      <td>1015</td>\n",
       "      <td>233</td>\n",
       "      <td>234</td>\n",
       "      <td>1570</td>\n",
       "      <td>1</td>\n",
       "    </tr>\n",
       "    <tr>\n",
       "      <th>1</th>\n",
       "      <td>2876</td>\n",
       "      <td>18</td>\n",
       "      <td>485</td>\n",
       "      <td>71</td>\n",
       "      <td>2495</td>\n",
       "      <td>192</td>\n",
       "      <td>202</td>\n",
       "      <td>1557</td>\n",
       "      <td>1</td>\n",
       "    </tr>\n",
       "    <tr>\n",
       "      <th>2</th>\n",
       "      <td>3171</td>\n",
       "      <td>2</td>\n",
       "      <td>277</td>\n",
       "      <td>9</td>\n",
       "      <td>4374</td>\n",
       "      <td>213</td>\n",
       "      <td>237</td>\n",
       "      <td>1052</td>\n",
       "      <td>0</td>\n",
       "    </tr>\n",
       "    <tr>\n",
       "      <th>3</th>\n",
       "      <td>3087</td>\n",
       "      <td>13</td>\n",
       "      <td>190</td>\n",
       "      <td>31</td>\n",
       "      <td>4774</td>\n",
       "      <td>193</td>\n",
       "      <td>221</td>\n",
       "      <td>752</td>\n",
       "      <td>0</td>\n",
       "    </tr>\n",
       "    <tr>\n",
       "      <th>4</th>\n",
       "      <td>2835</td>\n",
       "      <td>10</td>\n",
       "      <td>212</td>\n",
       "      <td>41</td>\n",
       "      <td>3596</td>\n",
       "      <td>231</td>\n",
       "      <td>242</td>\n",
       "      <td>3280</td>\n",
       "      <td>1</td>\n",
       "    </tr>\n",
       "  </tbody>\n",
       "</table>\n",
       "</div>"
      ],
      "text/plain": [
       "   Elevation  Slope  Horizontal_Distance_To_Hydrology  \\\n",
       "0       2991      7                                67   \n",
       "1       2876     18                               485   \n",
       "2       3171      2                               277   \n",
       "3       3087     13                               190   \n",
       "4       2835     10                               212   \n",
       "\n",
       "   Vertical_Distance_To_Hydrology  Horizontal_Distance_To_Roadways  \\\n",
       "0                              11                             1015   \n",
       "1                              71                             2495   \n",
       "2                               9                             4374   \n",
       "3                              31                             4774   \n",
       "4                              41                             3596   \n",
       "\n",
       "   Hillshade_9am  Hillshade_Noon  Horizontal_Distance_To_Fire_Points  \\\n",
       "0            233             234                                1570   \n",
       "1            192             202                                1557   \n",
       "2            213             237                                1052   \n",
       "3            193             221                                 752   \n",
       "4            231             242                                3280   \n",
       "\n",
       "  Cover_Type  \n",
       "0          1  \n",
       "1          1  \n",
       "2          0  \n",
       "3          0  \n",
       "4          1  "
      ]
     },
     "execution_count": 9,
     "metadata": {},
     "output_type": "execute_result"
    }
   ],
   "source": [
    "final_df.head()"
   ]
  },
  {
   "cell_type": "markdown",
   "id": "62a4a317-2d4a-44a8-a385-a089ce356a37",
   "metadata": {},
   "source": [
    "Nota: Se debe tener cargado el dataset (final_df) en memoria, pues posteriormente se debe hacer una división para algunas pruebas."
   ]
  },
  {
   "cell_type": "markdown",
   "id": "c88ff42d-0e81-4efc-9ff4-1496df782d71",
   "metadata": {},
   "source": [
    "\"\"\"\n",
    "# 4. Data Pipeline (Ejemplo con TFX)\n",
    "\n",
    "A continuación se muestra un ejemplo básico de cómo configurar el contexto interactivo de TFX y generar ejemplos\n",
    "usando CsvExampleGen. (Asegúrate de tener instaladas las dependencias de TFX.)\n",
    "\"\"\""
   ]
  },
  {
   "cell_type": "markdown",
   "id": "20e3b6da-6e33-4cfd-8a14-fd9216c0c141",
   "metadata": {},
   "source": [
    "**4.1 Configurar el contexto interactivo"
   ]
  },
  {
   "cell_type": "code",
   "execution_count": 10,
   "id": "2ade966c-4cbe-44f9-a44c-dfcd2099d58d",
   "metadata": {
    "tags": []
   },
   "outputs": [
    {
     "name": "stdout",
     "output_type": "stream",
     "text": [
      "Requirement already satisfied: tfx in /usr/local/lib/python3.9/site-packages (1.16.0)\n",
      "Requirement already satisfied: ml-pipelines-sdk==1.16.0 in /usr/local/lib/python3.9/site-packages (from tfx) (1.16.0)\n",
      "Requirement already satisfied: absl-py<2.0.0,>=0.9 in /usr/local/lib/python3.9/site-packages (from tfx) (1.4.0)\n",
      "Requirement already satisfied: ml-metadata<1.17.0,>=1.16.0 in /usr/local/lib/python3.9/site-packages (from tfx) (1.16.0)\n",
      "Requirement already satisfied: packaging>=22 in /usr/local/lib/python3.9/site-packages (from tfx) (24.2)\n",
      "Requirement already satisfied: portpicker<2,>=1.3.1 in /usr/local/lib/python3.9/site-packages (from tfx) (1.6.0)\n",
      "Requirement already satisfied: protobuf<5,>=3.20.3 in /usr/local/lib/python3.9/site-packages (from tfx) (3.20.3)\n",
      "Requirement already satisfied: docker<8,>=7 in /usr/local/lib/python3.9/site-packages (from tfx) (7.1.0)\n",
      "Requirement already satisfied: google-apitools<1,>=0.5 in /usr/local/lib/python3.9/site-packages (from tfx) (0.5.31)\n",
      "Requirement already satisfied: google-api-python-client<2,>=1.8 in /usr/local/lib/python3.9/site-packages (from tfx) (1.12.11)\n",
      "Requirement already satisfied: jinja2<4,>=2.7.3 in /usr/local/lib/python3.9/site-packages (from tfx) (3.1.5)\n",
      "Requirement already satisfied: typing-extensions<5 in /usr/local/lib/python3.9/site-packages (from tfx) (4.12.2)\n",
      "Requirement already satisfied: apache-beam<3,>=2.47 in /usr/local/lib/python3.9/site-packages (from apache-beam[gcp]<3,>=2.47->tfx) (2.63.0)\n",
      "Requirement already satisfied: attrs<24,>=19.3.0 in /usr/local/lib/python3.9/site-packages (from tfx) (23.2.0)\n",
      "Requirement already satisfied: click<9,>=7 in /usr/local/lib/python3.9/site-packages (from tfx) (8.1.8)\n",
      "Requirement already satisfied: google-api-core<3 in /usr/local/lib/python3.9/site-packages (from tfx) (2.24.1)\n",
      "Requirement already satisfied: google-cloud-aiplatform<2,>=1.6.2 in /usr/local/lib/python3.9/site-packages (from tfx) (1.82.0)\n",
      "Requirement already satisfied: google-cloud-bigquery<4,>=3 in /usr/local/lib/python3.9/site-packages (from tfx) (3.29.0)\n",
      "Requirement already satisfied: grpcio<2,>=1.28.1 in /usr/local/lib/python3.9/site-packages (from tfx) (1.65.5)\n",
      "Requirement already satisfied: keras-tuner!=1.4.0,!=1.4.1,<2,>=1.0.4 in /usr/local/lib/python3.9/site-packages (from tfx) (1.4.7)\n",
      "Requirement already satisfied: kubernetes<27,>=10.0.1 in /usr/local/lib/python3.9/site-packages (from tfx) (26.1.0)\n",
      "Requirement already satisfied: numpy<2,>=1.16 in /usr/local/lib/python3.9/site-packages (from tfx) (1.26.4)\n",
      "Requirement already satisfied: pyarrow<11,>=10 in /usr/local/lib/python3.9/site-packages (from tfx) (10.0.1)\n",
      "Requirement already satisfied: orjson!=3.10.7 in /usr/local/lib/python3.9/site-packages (from tfx) (3.10.15)\n",
      "Requirement already satisfied: scipy<1.13 in /usr/local/lib/python3.9/site-packages (from tfx) (1.12.0)\n",
      "Requirement already satisfied: scikit-learn==1.5.1 in /usr/local/lib/python3.9/site-packages (from tfx) (1.5.1)\n",
      "Requirement already satisfied: pyyaml<7,>=6 in /usr/local/lib/python3.9/site-packages (from tfx) (6.0.2)\n",
      "Requirement already satisfied: tensorflow<2.17,>=2.16.0 in /usr/local/lib/python3.9/site-packages (from tfx) (2.16.2)\n",
      "Requirement already satisfied: tensorflow-hub<0.16,>=0.15.0 in /usr/local/lib/python3.9/site-packages (from tfx) (0.15.0)\n",
      "Requirement already satisfied: tensorflow-data-validation<1.17.0,>=1.16.1 in /usr/local/lib/python3.9/site-packages (from tfx) (1.16.1)\n",
      "Requirement already satisfied: tensorflow-model-analysis<0.48.0,>=0.47.0 in /usr/local/lib/python3.9/site-packages (from tfx) (0.47.1)\n",
      "Requirement already satisfied: tensorflow-serving-api<2.17,>=2.16 in /usr/local/lib/python3.9/site-packages (from tfx) (2.16.1)\n",
      "Requirement already satisfied: tensorflow-transform<1.17.0,>=1.16.0 in /usr/local/lib/python3.9/site-packages (from tfx) (1.16.0)\n",
      "Requirement already satisfied: tfx-bsl<1.17.0,>=1.16.1 in /usr/local/lib/python3.9/site-packages (from tfx) (1.16.1)\n",
      "Requirement already satisfied: joblib>=1.2.0 in /usr/local/lib/python3.9/site-packages (from scikit-learn==1.5.1->tfx) (1.4.2)\n",
      "Requirement already satisfied: threadpoolctl>=3.1.0 in /usr/local/lib/python3.9/site-packages (from scikit-learn==1.5.1->tfx) (3.5.0)\n",
      "Requirement already satisfied: crcmod<2.0,>=1.7 in /usr/local/lib/python3.9/site-packages (from apache-beam<3,>=2.47->apache-beam[gcp]<3,>=2.47->tfx) (1.7)\n",
      "Requirement already satisfied: dill<0.3.2,>=0.3.1.1 in /usr/local/lib/python3.9/site-packages (from apache-beam<3,>=2.47->apache-beam[gcp]<3,>=2.47->tfx) (0.3.1.1)\n",
      "Requirement already satisfied: cloudpickle~=2.2.1 in /usr/local/lib/python3.9/site-packages (from apache-beam<3,>=2.47->apache-beam[gcp]<3,>=2.47->tfx) (2.2.1)\n",
      "Requirement already satisfied: fastavro<2,>=0.23.6 in /usr/local/lib/python3.9/site-packages (from apache-beam<3,>=2.47->apache-beam[gcp]<3,>=2.47->tfx) (1.10.0)\n",
      "Requirement already satisfied: fasteners<1.0,>=0.3 in /usr/local/lib/python3.9/site-packages (from apache-beam<3,>=2.47->apache-beam[gcp]<3,>=2.47->tfx) (0.19)\n",
      "Requirement already satisfied: hdfs<3.0.0,>=2.1.0 in /usr/local/lib/python3.9/site-packages (from apache-beam<3,>=2.47->apache-beam[gcp]<3,>=2.47->tfx) (2.7.3)\n",
      "Requirement already satisfied: httplib2<0.23.0,>=0.8 in /usr/local/lib/python3.9/site-packages (from apache-beam<3,>=2.47->apache-beam[gcp]<3,>=2.47->tfx) (0.22.0)\n",
      "Requirement already satisfied: jsonschema<5.0.0,>=4.0.0 in /usr/local/lib/python3.9/site-packages (from apache-beam<3,>=2.47->apache-beam[gcp]<3,>=2.47->tfx) (4.23.0)\n",
      "Requirement already satisfied: jsonpickle<4.0.0,>=3.0.0 in /usr/local/lib/python3.9/site-packages (from apache-beam<3,>=2.47->apache-beam[gcp]<3,>=2.47->tfx) (3.4.2)\n",
      "Requirement already satisfied: objsize<0.8.0,>=0.6.1 in /usr/local/lib/python3.9/site-packages (from apache-beam<3,>=2.47->apache-beam[gcp]<3,>=2.47->tfx) (0.7.1)\n",
      "Requirement already satisfied: pymongo<5.0.0,>=3.8.0 in /usr/local/lib/python3.9/site-packages (from apache-beam<3,>=2.47->apache-beam[gcp]<3,>=2.47->tfx) (4.11.1)\n",
      "Requirement already satisfied: proto-plus<2,>=1.7.1 in /usr/local/lib/python3.9/site-packages (from apache-beam<3,>=2.47->apache-beam[gcp]<3,>=2.47->tfx) (1.26.0)\n",
      "Requirement already satisfied: pydot<2,>=1.2.0 in /usr/local/lib/python3.9/site-packages (from apache-beam<3,>=2.47->apache-beam[gcp]<3,>=2.47->tfx) (1.4.2)\n",
      "Requirement already satisfied: python-dateutil<3,>=2.8.0 in /usr/local/lib/python3.9/site-packages (from apache-beam<3,>=2.47->apache-beam[gcp]<3,>=2.47->tfx) (2.9.0.post0)\n",
      "Requirement already satisfied: pytz>=2018.3 in /usr/local/lib/python3.9/site-packages (from apache-beam<3,>=2.47->apache-beam[gcp]<3,>=2.47->tfx) (2025.1)\n",
      "Requirement already satisfied: redis<6,>=5.0.0 in /usr/local/lib/python3.9/site-packages (from apache-beam<3,>=2.47->apache-beam[gcp]<3,>=2.47->tfx) (5.2.1)\n",
      "Requirement already satisfied: regex>=2020.6.8 in /usr/local/lib/python3.9/site-packages (from apache-beam<3,>=2.47->apache-beam[gcp]<3,>=2.47->tfx) (2024.11.6)\n",
      "Requirement already satisfied: requests<3.0.0,>=2.24.0 in /usr/local/lib/python3.9/site-packages (from apache-beam<3,>=2.47->apache-beam[gcp]<3,>=2.47->tfx) (2.32.3)\n",
      "Requirement already satisfied: sortedcontainers>=2.4.0 in /usr/local/lib/python3.9/site-packages (from apache-beam<3,>=2.47->apache-beam[gcp]<3,>=2.47->tfx) (2.4.0)\n",
      "Requirement already satisfied: zstandard<1,>=0.18.0 in /usr/local/lib/python3.9/site-packages (from apache-beam<3,>=2.47->apache-beam[gcp]<3,>=2.47->tfx) (0.23.0)\n",
      "Requirement already satisfied: pyarrow-hotfix<1 in /usr/local/lib/python3.9/site-packages (from apache-beam<3,>=2.47->apache-beam[gcp]<3,>=2.47->tfx) (0.6)\n",
      "Requirement already satisfied: cachetools<6,>=3.1.0 in /usr/local/lib/python3.9/site-packages (from apache-beam[gcp]<3,>=2.47->tfx) (5.5.2)\n",
      "Requirement already satisfied: google-auth<3,>=1.18.0 in /usr/local/lib/python3.9/site-packages (from apache-beam[gcp]<3,>=2.47->tfx) (2.38.0)\n",
      "Requirement already satisfied: google-auth-httplib2<0.3.0,>=0.1.0 in /usr/local/lib/python3.9/site-packages (from apache-beam[gcp]<3,>=2.47->tfx) (0.2.0)\n",
      "Requirement already satisfied: google-cloud-datastore<3,>=2.0.0 in /usr/local/lib/python3.9/site-packages (from apache-beam[gcp]<3,>=2.47->tfx) (2.20.2)\n",
      "Requirement already satisfied: google-cloud-pubsub<3,>=2.1.0 in /usr/local/lib/python3.9/site-packages (from apache-beam[gcp]<3,>=2.47->tfx) (2.28.0)\n",
      "Requirement already satisfied: google-cloud-pubsublite<2,>=1.2.0 in /usr/local/lib/python3.9/site-packages (from apache-beam[gcp]<3,>=2.47->tfx) (1.12.0)\n",
      "Requirement already satisfied: google-cloud-storage<3,>=2.18.2 in /usr/local/lib/python3.9/site-packages (from apache-beam[gcp]<3,>=2.47->tfx) (2.19.0)\n",
      "Requirement already satisfied: google-cloud-bigquery-storage<3,>=2.6.3 in /usr/local/lib/python3.9/site-packages (from apache-beam[gcp]<3,>=2.47->tfx) (2.28.0)\n",
      "Requirement already satisfied: google-cloud-core<3,>=2.0.0 in /usr/local/lib/python3.9/site-packages (from apache-beam[gcp]<3,>=2.47->tfx) (2.4.2)\n",
      "Requirement already satisfied: google-cloud-bigtable<3,>=2.19.0 in /usr/local/lib/python3.9/site-packages (from apache-beam[gcp]<3,>=2.47->tfx) (2.29.0)\n",
      "Requirement already satisfied: google-cloud-spanner<4,>=3.0.0 in /usr/local/lib/python3.9/site-packages (from apache-beam[gcp]<3,>=2.47->tfx) (3.52.0)\n",
      "Requirement already satisfied: google-cloud-dlp<4,>=3.0.0 in /usr/local/lib/python3.9/site-packages (from apache-beam[gcp]<3,>=2.47->tfx) (3.28.0)\n",
      "Requirement already satisfied: google-cloud-language<3,>=2.0 in /usr/local/lib/python3.9/site-packages (from apache-beam[gcp]<3,>=2.47->tfx) (2.17.0)\n",
      "Requirement already satisfied: google-cloud-videointelligence<3,>=2.0 in /usr/local/lib/python3.9/site-packages (from apache-beam[gcp]<3,>=2.47->tfx) (2.16.0)\n",
      "Requirement already satisfied: google-cloud-vision<4,>=2 in /usr/local/lib/python3.9/site-packages (from apache-beam[gcp]<3,>=2.47->tfx) (3.10.0)\n",
      "Requirement already satisfied: google-cloud-recommendations-ai<0.11.0,>=0.1.0 in /usr/local/lib/python3.9/site-packages (from apache-beam[gcp]<3,>=2.47->tfx) (0.10.16)\n",
      "Requirement already satisfied: keyrings.google-artifactregistry-auth in /usr/local/lib/python3.9/site-packages (from apache-beam[gcp]<3,>=2.47->tfx) (1.1.2)\n",
      "Requirement already satisfied: urllib3>=1.26.0 in /usr/local/lib/python3.9/site-packages (from docker<8,>=7->tfx) (2.3.0)\n",
      "Requirement already satisfied: googleapis-common-protos<2.0.dev0,>=1.56.2 in /usr/local/lib/python3.9/site-packages (from google-api-core<3->tfx) (1.68.0)\n",
      "Requirement already satisfied: six<2dev,>=1.13.0 in /usr/local/lib/python3.9/site-packages (from google-api-python-client<2,>=1.8->tfx) (1.17.0)\n",
      "Requirement already satisfied: uritemplate<4dev,>=3.0.0 in /usr/local/lib/python3.9/site-packages (from google-api-python-client<2,>=1.8->tfx) (3.0.1)\n",
      "Requirement already satisfied: oauth2client>=1.4.12 in /usr/local/lib/python3.9/site-packages (from google-apitools<1,>=0.5->tfx) (4.1.3)\n",
      "Requirement already satisfied: google-cloud-resource-manager<3.0.0dev,>=1.3.3 in /usr/local/lib/python3.9/site-packages (from google-cloud-aiplatform<2,>=1.6.2->tfx) (1.14.1)\n",
      "Requirement already satisfied: shapely<3.0.0dev in /usr/local/lib/python3.9/site-packages (from google-cloud-aiplatform<2,>=1.6.2->tfx) (2.0.7)\n",
      "Requirement already satisfied: pydantic<3 in /usr/local/lib/python3.9/site-packages (from google-cloud-aiplatform<2,>=1.6.2->tfx) (2.10.6)\n",
      "Requirement already satisfied: docstring-parser<1 in /usr/local/lib/python3.9/site-packages (from google-cloud-aiplatform<2,>=1.6.2->tfx) (0.16)\n",
      "Requirement already satisfied: google-resumable-media<3.0dev,>=2.0.0 in /usr/local/lib/python3.9/site-packages (from google-cloud-bigquery<4,>=3->tfx) (2.7.2)\n",
      "Requirement already satisfied: MarkupSafe>=2.0 in /usr/local/lib/python3.9/site-packages (from jinja2<4,>=2.7.3->tfx) (3.0.2)\n",
      "Requirement already satisfied: keras in /usr/local/lib/python3.9/site-packages (from keras-tuner!=1.4.0,!=1.4.1,<2,>=1.0.4->tfx) (3.8.0)\n",
      "Requirement already satisfied: kt-legacy in /usr/local/lib/python3.9/site-packages (from keras-tuner!=1.4.0,!=1.4.1,<2,>=1.0.4->tfx) (1.0.5)\n",
      "Requirement already satisfied: certifi>=14.05.14 in /usr/local/lib/python3.9/site-packages (from kubernetes<27,>=10.0.1->tfx) (2025.1.31)\n",
      "Requirement already satisfied: setuptools>=21.0.0 in /usr/local/lib/python3.9/site-packages (from kubernetes<27,>=10.0.1->tfx) (58.1.0)\n",
      "Requirement already satisfied: websocket-client!=0.40.0,!=0.41.*,!=0.42.*,>=0.32.0 in /usr/local/lib/python3.9/site-packages (from kubernetes<27,>=10.0.1->tfx) (1.8.0)\n",
      "Requirement already satisfied: requests-oauthlib in /usr/local/lib/python3.9/site-packages (from kubernetes<27,>=10.0.1->tfx) (2.0.0)\n",
      "Requirement already satisfied: psutil in /usr/local/lib/python3.9/site-packages (from portpicker<2,>=1.3.1->tfx) (7.0.0)\n",
      "Requirement already satisfied: astunparse>=1.6.0 in /usr/local/lib/python3.9/site-packages (from tensorflow<2.17,>=2.16.0->tfx) (1.6.3)\n",
      "Requirement already satisfied: flatbuffers>=23.5.26 in /usr/local/lib/python3.9/site-packages (from tensorflow<2.17,>=2.16.0->tfx) (25.2.10)\n",
      "Requirement already satisfied: gast!=0.5.0,!=0.5.1,!=0.5.2,>=0.2.1 in /usr/local/lib/python3.9/site-packages (from tensorflow<2.17,>=2.16.0->tfx) (0.6.0)\n",
      "Requirement already satisfied: google-pasta>=0.1.1 in /usr/local/lib/python3.9/site-packages (from tensorflow<2.17,>=2.16.0->tfx) (0.2.0)\n",
      "Requirement already satisfied: h5py>=3.10.0 in /usr/local/lib/python3.9/site-packages (from tensorflow<2.17,>=2.16.0->tfx) (3.13.0)\n",
      "Requirement already satisfied: libclang>=13.0.0 in /usr/local/lib/python3.9/site-packages (from tensorflow<2.17,>=2.16.0->tfx) (18.1.1)\n",
      "Requirement already satisfied: ml-dtypes~=0.3.1 in /usr/local/lib/python3.9/site-packages (from tensorflow<2.17,>=2.16.0->tfx) (0.3.2)\n",
      "Requirement already satisfied: opt-einsum>=2.3.2 in /usr/local/lib/python3.9/site-packages (from tensorflow<2.17,>=2.16.0->tfx) (3.4.0)\n",
      "Requirement already satisfied: termcolor>=1.1.0 in /usr/local/lib/python3.9/site-packages (from tensorflow<2.17,>=2.16.0->tfx) (2.5.0)\n",
      "Requirement already satisfied: wrapt>=1.11.0 in /usr/local/lib/python3.9/site-packages (from tensorflow<2.17,>=2.16.0->tfx) (1.17.2)\n",
      "Requirement already satisfied: tensorboard<2.17,>=2.16 in /usr/local/lib/python3.9/site-packages (from tensorflow<2.17,>=2.16.0->tfx) (2.16.2)\n",
      "Requirement already satisfied: tensorflow-io-gcs-filesystem>=0.23.1 in /usr/local/lib/python3.9/site-packages (from tensorflow<2.17,>=2.16.0->tfx) (0.37.1)\n",
      "Requirement already satisfied: pandas<2,>=1.0 in /usr/local/lib/python3.9/site-packages (from tensorflow-data-validation<1.17.0,>=1.16.1->tfx) (1.5.3)\n",
      "Requirement already satisfied: pyfarmhash<0.4,>=0.2.2 in /usr/local/lib/python3.9/site-packages (from tensorflow-data-validation<1.17.0,>=1.16.1->tfx) (0.3.2)\n",
      "Requirement already satisfied: tensorflow-metadata<1.17,>=1.16.0 in /usr/local/lib/python3.9/site-packages (from tensorflow-data-validation<1.17.0,>=1.16.1->tfx) (1.16.1)\n",
      "Requirement already satisfied: ipython<8,>=7 in /usr/local/lib/python3.9/site-packages (from tensorflow-model-analysis<0.48.0,>=0.47.0->tfx) (7.34.0)\n",
      "Requirement already satisfied: ipywidgets<8,>=7 in /usr/local/lib/python3.9/site-packages (from tensorflow-model-analysis<0.48.0,>=0.47.0->tfx) (7.8.5)\n",
      "Requirement already satisfied: pillow>=9.4.0 in /usr/local/lib/python3.9/site-packages (from tensorflow-model-analysis<0.48.0,>=0.47.0->tfx) (11.1.0)\n",
      "Requirement already satisfied: rouge-score<2,>=0.1.2 in /usr/local/lib/python3.9/site-packages (from tensorflow-model-analysis<0.48.0,>=0.47.0->tfx) (0.1.2)\n",
      "Requirement already satisfied: sacrebleu<4,>=2.3 in /usr/local/lib/python3.9/site-packages (from tensorflow-model-analysis<0.48.0,>=0.47.0->tfx) (2.5.1)\n",
      "Requirement already satisfied: tensorflow-estimator>=2.10 in /usr/local/lib/python3.9/site-packages (from tensorflow-model-analysis<0.48.0,>=0.47.0->tfx) (2.15.0)\n",
      "Requirement already satisfied: tf-keras>=2 in /usr/local/lib/python3.9/site-packages (from tensorflow-transform<1.17.0,>=1.16.0->tfx) (2.16.0)\n",
      "Requirement already satisfied: wheel<1.0,>=0.23.0 in /usr/local/lib/python3.9/site-packages (from astunparse>=1.6.0->tensorflow<2.17,>=2.16.0->tfx) (0.45.1)\n",
      "Requirement already satisfied: grpcio-status<2.0.dev0,>=1.33.2 in /usr/local/lib/python3.9/site-packages (from google-api-core[grpc]!=2.0.*,!=2.1.*,!=2.2.*,!=2.3.*,!=2.4.*,!=2.5.*,!=2.6.*,!=2.7.*,<3.0.0dev,>=1.34.1->google-cloud-aiplatform<2,>=1.6.2->tfx) (1.49.0rc1)\n",
      "Requirement already satisfied: pyasn1-modules>=0.2.1 in /usr/local/lib/python3.9/site-packages (from google-auth<3,>=1.18.0->apache-beam[gcp]<3,>=2.47->tfx) (0.4.1)\n",
      "Requirement already satisfied: rsa<5,>=3.1.4 in /usr/local/lib/python3.9/site-packages (from google-auth<3,>=1.18.0->apache-beam[gcp]<3,>=2.47->tfx) (4.9)\n",
      "Requirement already satisfied: grpc-google-iam-v1<1.0.0dev,>=0.12.4 in /usr/local/lib/python3.9/site-packages (from google-cloud-bigtable<3,>=2.19.0->apache-beam[gcp]<3,>=2.47->tfx) (0.14.0)\n",
      "Requirement already satisfied: opentelemetry-api>=1.27.0 in /usr/local/lib/python3.9/site-packages (from google-cloud-pubsub<3,>=2.1.0->apache-beam[gcp]<3,>=2.47->tfx) (1.30.0)\n",
      "Requirement already satisfied: opentelemetry-sdk>=1.27.0 in /usr/local/lib/python3.9/site-packages (from google-cloud-pubsub<3,>=2.1.0->apache-beam[gcp]<3,>=2.47->tfx) (1.30.0)\n",
      "Requirement already satisfied: overrides<8.0.0,>=6.0.1 in /usr/local/lib/python3.9/site-packages (from google-cloud-pubsublite<2,>=1.2.0->apache-beam[gcp]<3,>=2.47->tfx) (7.7.0)\n",
      "Requirement already satisfied: sqlparse>=0.4.4 in /usr/local/lib/python3.9/site-packages (from google-cloud-spanner<4,>=3.0.0->apache-beam[gcp]<3,>=2.47->tfx) (0.5.3)\n",
      "Requirement already satisfied: grpc-interceptor>=0.15.4 in /usr/local/lib/python3.9/site-packages (from google-cloud-spanner<4,>=3.0.0->apache-beam[gcp]<3,>=2.47->tfx) (0.15.4)\n",
      "Requirement already satisfied: google-crc32c<2.0dev,>=1.0 in /usr/local/lib/python3.9/site-packages (from google-cloud-storage<3,>=2.18.2->apache-beam[gcp]<3,>=2.47->tfx) (1.6.0)\n",
      "Requirement already satisfied: docopt in /usr/local/lib/python3.9/site-packages (from hdfs<3.0.0,>=2.1.0->apache-beam<3,>=2.47->apache-beam[gcp]<3,>=2.47->tfx) (0.6.2)\n",
      "Requirement already satisfied: pyparsing!=3.0.0,!=3.0.1,!=3.0.2,!=3.0.3,<4,>=2.4.2 in /usr/local/lib/python3.9/site-packages (from httplib2<0.23.0,>=0.8->apache-beam<3,>=2.47->apache-beam[gcp]<3,>=2.47->tfx) (3.2.1)\n",
      "Requirement already satisfied: jedi>=0.16 in /usr/local/lib/python3.9/site-packages (from ipython<8,>=7->tensorflow-model-analysis<0.48.0,>=0.47.0->tfx) (0.19.2)\n",
      "Requirement already satisfied: decorator in /usr/local/lib/python3.9/site-packages (from ipython<8,>=7->tensorflow-model-analysis<0.48.0,>=0.47.0->tfx) (5.2.1)\n",
      "Requirement already satisfied: pickleshare in /usr/local/lib/python3.9/site-packages (from ipython<8,>=7->tensorflow-model-analysis<0.48.0,>=0.47.0->tfx) (0.7.5)\n",
      "Requirement already satisfied: traitlets>=4.2 in /usr/local/lib/python3.9/site-packages (from ipython<8,>=7->tensorflow-model-analysis<0.48.0,>=0.47.0->tfx) (5.14.3)\n",
      "Requirement already satisfied: prompt-toolkit!=3.0.0,!=3.0.1,<3.1.0,>=2.0.0 in /usr/local/lib/python3.9/site-packages (from ipython<8,>=7->tensorflow-model-analysis<0.48.0,>=0.47.0->tfx) (3.0.50)\n",
      "Requirement already satisfied: pygments in /usr/local/lib/python3.9/site-packages (from ipython<8,>=7->tensorflow-model-analysis<0.48.0,>=0.47.0->tfx) (2.19.1)\n",
      "Requirement already satisfied: backcall in /usr/local/lib/python3.9/site-packages (from ipython<8,>=7->tensorflow-model-analysis<0.48.0,>=0.47.0->tfx) (0.2.0)\n",
      "Requirement already satisfied: matplotlib-inline in /usr/local/lib/python3.9/site-packages (from ipython<8,>=7->tensorflow-model-analysis<0.48.0,>=0.47.0->tfx) (0.1.7)\n",
      "Requirement already satisfied: pexpect>4.3 in /usr/local/lib/python3.9/site-packages (from ipython<8,>=7->tensorflow-model-analysis<0.48.0,>=0.47.0->tfx) (4.9.0)\n",
      "Requirement already satisfied: comm>=0.1.3 in /usr/local/lib/python3.9/site-packages (from ipywidgets<8,>=7->tensorflow-model-analysis<0.48.0,>=0.47.0->tfx) (0.2.2)\n",
      "Requirement already satisfied: ipython-genutils~=0.2.0 in /usr/local/lib/python3.9/site-packages (from ipywidgets<8,>=7->tensorflow-model-analysis<0.48.0,>=0.47.0->tfx) (0.2.0)\n",
      "Requirement already satisfied: widgetsnbextension~=3.6.10 in /usr/local/lib/python3.9/site-packages (from ipywidgets<8,>=7->tensorflow-model-analysis<0.48.0,>=0.47.0->tfx) (3.6.10)\n",
      "Requirement already satisfied: jupyterlab-widgets<3,>=1.0.0 in /usr/local/lib/python3.9/site-packages (from ipywidgets<8,>=7->tensorflow-model-analysis<0.48.0,>=0.47.0->tfx) (1.1.11)\n",
      "Requirement already satisfied: jsonschema-specifications>=2023.03.6 in /usr/local/lib/python3.9/site-packages (from jsonschema<5.0.0,>=4.0.0->apache-beam<3,>=2.47->apache-beam[gcp]<3,>=2.47->tfx) (2024.10.1)\n",
      "Requirement already satisfied: referencing>=0.28.4 in /usr/local/lib/python3.9/site-packages (from jsonschema<5.0.0,>=4.0.0->apache-beam<3,>=2.47->apache-beam[gcp]<3,>=2.47->tfx) (0.36.2)\n",
      "Requirement already satisfied: rpds-py>=0.7.1 in /usr/local/lib/python3.9/site-packages (from jsonschema<5.0.0,>=4.0.0->apache-beam<3,>=2.47->apache-beam[gcp]<3,>=2.47->tfx) (0.23.1)\n",
      "Requirement already satisfied: rich in /usr/local/lib/python3.9/site-packages (from keras->keras-tuner!=1.4.0,!=1.4.1,<2,>=1.0.4->tfx) (13.9.4)\n",
      "Requirement already satisfied: namex in /usr/local/lib/python3.9/site-packages (from keras->keras-tuner!=1.4.0,!=1.4.1,<2,>=1.0.4->tfx) (0.0.8)\n",
      "Requirement already satisfied: optree in /usr/local/lib/python3.9/site-packages (from keras->keras-tuner!=1.4.0,!=1.4.1,<2,>=1.0.4->tfx) (0.14.0)\n",
      "Requirement already satisfied: pyasn1>=0.1.7 in /usr/local/lib/python3.9/site-packages (from oauth2client>=1.4.12->google-apitools<1,>=0.5->tfx) (0.6.1)\n",
      "Requirement already satisfied: annotated-types>=0.6.0 in /usr/local/lib/python3.9/site-packages (from pydantic<3->google-cloud-aiplatform<2,>=1.6.2->tfx) (0.7.0)\n",
      "Requirement already satisfied: pydantic-core==2.27.2 in /usr/local/lib/python3.9/site-packages (from pydantic<3->google-cloud-aiplatform<2,>=1.6.2->tfx) (2.27.2)\n",
      "Requirement already satisfied: dnspython<3.0.0,>=1.16.0 in /usr/local/lib/python3.9/site-packages (from pymongo<5.0.0,>=3.8.0->apache-beam<3,>=2.47->apache-beam[gcp]<3,>=2.47->tfx) (2.7.0)\n",
      "Requirement already satisfied: async-timeout>=4.0.3 in /usr/local/lib/python3.9/site-packages (from redis<6,>=5.0.0->apache-beam<3,>=2.47->apache-beam[gcp]<3,>=2.47->tfx) (5.0.1)\n",
      "Requirement already satisfied: charset-normalizer<4,>=2 in /usr/local/lib/python3.9/site-packages (from requests<3.0.0,>=2.24.0->apache-beam<3,>=2.47->apache-beam[gcp]<3,>=2.47->tfx) (3.4.1)\n",
      "Requirement already satisfied: idna<4,>=2.5 in /usr/local/lib/python3.9/site-packages (from requests<3.0.0,>=2.24.0->apache-beam<3,>=2.47->apache-beam[gcp]<3,>=2.47->tfx) (3.10)\n",
      "Requirement already satisfied: nltk in /usr/local/lib/python3.9/site-packages (from rouge-score<2,>=0.1.2->tensorflow-model-analysis<0.48.0,>=0.47.0->tfx) (3.9.1)\n",
      "Requirement already satisfied: portalocker in /usr/local/lib/python3.9/site-packages (from sacrebleu<4,>=2.3->tensorflow-model-analysis<0.48.0,>=0.47.0->tfx) (3.1.1)\n",
      "Requirement already satisfied: tabulate>=0.8.9 in /usr/local/lib/python3.9/site-packages (from sacrebleu<4,>=2.3->tensorflow-model-analysis<0.48.0,>=0.47.0->tfx) (0.9.0)\n",
      "Requirement already satisfied: colorama in /usr/local/lib/python3.9/site-packages (from sacrebleu<4,>=2.3->tensorflow-model-analysis<0.48.0,>=0.47.0->tfx) (0.4.6)\n",
      "Requirement already satisfied: lxml in /usr/local/lib/python3.9/site-packages (from sacrebleu<4,>=2.3->tensorflow-model-analysis<0.48.0,>=0.47.0->tfx) (5.3.1)\n",
      "Requirement already satisfied: markdown>=2.6.8 in /usr/local/lib/python3.9/site-packages (from tensorboard<2.17,>=2.16->tensorflow<2.17,>=2.16.0->tfx) (3.7)\n",
      "Requirement already satisfied: tensorboard-data-server<0.8.0,>=0.7.0 in /usr/local/lib/python3.9/site-packages (from tensorboard<2.17,>=2.16->tensorflow<2.17,>=2.16.0->tfx) (0.7.2)\n",
      "Requirement already satisfied: werkzeug>=1.0.1 in /usr/local/lib/python3.9/site-packages (from tensorboard<2.17,>=2.16->tensorflow<2.17,>=2.16.0->tfx) (3.1.3)\n",
      "Requirement already satisfied: keyring in /usr/local/lib/python3.9/site-packages (from keyrings.google-artifactregistry-auth->apache-beam[gcp]<3,>=2.47->tfx) (25.6.0)\n",
      "Requirement already satisfied: pluggy in /usr/local/lib/python3.9/site-packages (from keyrings.google-artifactregistry-auth->apache-beam[gcp]<3,>=2.47->tfx) (1.5.0)\n",
      "Requirement already satisfied: oauthlib>=3.0.0 in /usr/local/lib/python3.9/site-packages (from requests-oauthlib->kubernetes<27,>=10.0.1->tfx) (3.2.2)\n",
      "Requirement already satisfied: parso<0.9.0,>=0.8.4 in /usr/local/lib/python3.9/site-packages (from jedi>=0.16->ipython<8,>=7->tensorflow-model-analysis<0.48.0,>=0.47.0->tfx) (0.8.4)\n",
      "Requirement already satisfied: importlib-metadata>=4.4 in /usr/local/lib/python3.9/site-packages (from markdown>=2.6.8->tensorboard<2.17,>=2.16->tensorflow<2.17,>=2.16.0->tfx) (8.5.0)\n",
      "Requirement already satisfied: deprecated>=1.2.6 in /usr/local/lib/python3.9/site-packages (from opentelemetry-api>=1.27.0->google-cloud-pubsub<3,>=2.1.0->apache-beam[gcp]<3,>=2.47->tfx) (1.2.18)\n",
      "Requirement already satisfied: opentelemetry-semantic-conventions==0.51b0 in /usr/local/lib/python3.9/site-packages (from opentelemetry-sdk>=1.27.0->google-cloud-pubsub<3,>=2.1.0->apache-beam[gcp]<3,>=2.47->tfx) (0.51b0)\n",
      "Requirement already satisfied: ptyprocess>=0.5 in /usr/local/lib/python3.9/site-packages (from pexpect>4.3->ipython<8,>=7->tensorflow-model-analysis<0.48.0,>=0.47.0->tfx) (0.7.0)\n",
      "Requirement already satisfied: wcwidth in /usr/local/lib/python3.9/site-packages (from prompt-toolkit!=3.0.0,!=3.0.1,<3.1.0,>=2.0.0->ipython<8,>=7->tensorflow-model-analysis<0.48.0,>=0.47.0->tfx) (0.2.13)\n",
      "Requirement already satisfied: notebook>=4.4.1 in /usr/local/lib/python3.9/site-packages (from widgetsnbextension~=3.6.10->ipywidgets<8,>=7->tensorflow-model-analysis<0.48.0,>=0.47.0->tfx) (6.5.7)\n",
      "Requirement already satisfied: SecretStorage>=3.2 in /usr/local/lib/python3.9/site-packages (from keyring->keyrings.google-artifactregistry-auth->apache-beam[gcp]<3,>=2.47->tfx) (3.3.3)\n",
      "Requirement already satisfied: jeepney>=0.4.2 in /usr/local/lib/python3.9/site-packages (from keyring->keyrings.google-artifactregistry-auth->apache-beam[gcp]<3,>=2.47->tfx) (0.8.0)\n",
      "Requirement already satisfied: jaraco.classes in /usr/local/lib/python3.9/site-packages (from keyring->keyrings.google-artifactregistry-auth->apache-beam[gcp]<3,>=2.47->tfx) (3.4.0)\n",
      "Requirement already satisfied: jaraco.functools in /usr/local/lib/python3.9/site-packages (from keyring->keyrings.google-artifactregistry-auth->apache-beam[gcp]<3,>=2.47->tfx) (4.1.0)\n",
      "Requirement already satisfied: jaraco.context in /usr/local/lib/python3.9/site-packages (from keyring->keyrings.google-artifactregistry-auth->apache-beam[gcp]<3,>=2.47->tfx) (6.0.1)\n",
      "Requirement already satisfied: tqdm in /usr/local/lib/python3.9/site-packages (from nltk->rouge-score<2,>=0.1.2->tensorflow-model-analysis<0.48.0,>=0.47.0->tfx) (4.67.1)\n",
      "Requirement already satisfied: markdown-it-py>=2.2.0 in /usr/local/lib/python3.9/site-packages (from rich->keras->keras-tuner!=1.4.0,!=1.4.1,<2,>=1.0.4->tfx) (3.0.0)\n",
      "Requirement already satisfied: zipp>=3.20 in /usr/local/lib/python3.9/site-packages (from importlib-metadata>=4.4->markdown>=2.6.8->tensorboard<2.17,>=2.16->tensorflow<2.17,>=2.16.0->tfx) (3.21.0)\n",
      "Requirement already satisfied: mdurl~=0.1 in /usr/local/lib/python3.9/site-packages (from markdown-it-py>=2.2.0->rich->keras->keras-tuner!=1.4.0,!=1.4.1,<2,>=1.0.4->tfx) (0.1.2)\n",
      "Requirement already satisfied: tornado>=6.1 in /usr/local/lib/python3.9/site-packages (from notebook>=4.4.1->widgetsnbextension~=3.6.10->ipywidgets<8,>=7->tensorflow-model-analysis<0.48.0,>=0.47.0->tfx) (6.4.2)\n",
      "Requirement already satisfied: pyzmq>=17 in /usr/local/lib/python3.9/site-packages (from notebook>=4.4.1->widgetsnbextension~=3.6.10->ipywidgets<8,>=7->tensorflow-model-analysis<0.48.0,>=0.47.0->tfx) (26.2.1)\n",
      "Requirement already satisfied: argon2-cffi in /usr/local/lib/python3.9/site-packages (from notebook>=4.4.1->widgetsnbextension~=3.6.10->ipywidgets<8,>=7->tensorflow-model-analysis<0.48.0,>=0.47.0->tfx) (23.1.0)\n",
      "Requirement already satisfied: jupyter-core>=4.6.1 in /usr/local/lib/python3.9/site-packages (from notebook>=4.4.1->widgetsnbextension~=3.6.10->ipywidgets<8,>=7->tensorflow-model-analysis<0.48.0,>=0.47.0->tfx) (5.7.2)\n",
      "Requirement already satisfied: jupyter-client<8,>=5.3.4 in /usr/local/lib/python3.9/site-packages (from notebook>=4.4.1->widgetsnbextension~=3.6.10->ipywidgets<8,>=7->tensorflow-model-analysis<0.48.0,>=0.47.0->tfx) (7.4.9)\n",
      "Requirement already satisfied: nbformat in /usr/local/lib/python3.9/site-packages (from notebook>=4.4.1->widgetsnbextension~=3.6.10->ipywidgets<8,>=7->tensorflow-model-analysis<0.48.0,>=0.47.0->tfx) (5.10.4)\n",
      "Requirement already satisfied: nbconvert>=5 in /usr/local/lib/python3.9/site-packages (from notebook>=4.4.1->widgetsnbextension~=3.6.10->ipywidgets<8,>=7->tensorflow-model-analysis<0.48.0,>=0.47.0->tfx) (7.16.6)\n",
      "Requirement already satisfied: nest-asyncio>=1.5 in /usr/local/lib/python3.9/site-packages (from notebook>=4.4.1->widgetsnbextension~=3.6.10->ipywidgets<8,>=7->tensorflow-model-analysis<0.48.0,>=0.47.0->tfx) (1.6.0)\n",
      "Requirement already satisfied: ipykernel in /usr/local/lib/python3.9/site-packages (from notebook>=4.4.1->widgetsnbextension~=3.6.10->ipywidgets<8,>=7->tensorflow-model-analysis<0.48.0,>=0.47.0->tfx) (6.29.5)\n",
      "Requirement already satisfied: Send2Trash>=1.8.0 in /usr/local/lib/python3.9/site-packages (from notebook>=4.4.1->widgetsnbextension~=3.6.10->ipywidgets<8,>=7->tensorflow-model-analysis<0.48.0,>=0.47.0->tfx) (1.8.3)\n",
      "Requirement already satisfied: terminado>=0.8.3 in /usr/local/lib/python3.9/site-packages (from notebook>=4.4.1->widgetsnbextension~=3.6.10->ipywidgets<8,>=7->tensorflow-model-analysis<0.48.0,>=0.47.0->tfx) (0.18.1)\n",
      "Requirement already satisfied: prometheus-client in /usr/local/lib/python3.9/site-packages (from notebook>=4.4.1->widgetsnbextension~=3.6.10->ipywidgets<8,>=7->tensorflow-model-analysis<0.48.0,>=0.47.0->tfx) (0.21.1)\n",
      "Requirement already satisfied: nbclassic>=0.4.7 in /usr/local/lib/python3.9/site-packages (from notebook>=4.4.1->widgetsnbextension~=3.6.10->ipywidgets<8,>=7->tensorflow-model-analysis<0.48.0,>=0.47.0->tfx) (1.2.0)\n",
      "Requirement already satisfied: cryptography>=2.0 in /usr/local/lib/python3.9/site-packages (from SecretStorage>=3.2->keyring->keyrings.google-artifactregistry-auth->apache-beam[gcp]<3,>=2.47->tfx) (44.0.1)\n",
      "Requirement already satisfied: more-itertools in /usr/local/lib/python3.9/site-packages (from jaraco.classes->keyring->keyrings.google-artifactregistry-auth->apache-beam[gcp]<3,>=2.47->tfx) (10.6.0)\n",
      "Requirement already satisfied: backports.tarfile in /usr/local/lib/python3.9/site-packages (from jaraco.context->keyring->keyrings.google-artifactregistry-auth->apache-beam[gcp]<3,>=2.47->tfx) (1.2.0)\n",
      "Requirement already satisfied: cffi>=1.12 in /usr/local/lib/python3.9/site-packages (from cryptography>=2.0->SecretStorage>=3.2->keyring->keyrings.google-artifactregistry-auth->apache-beam[gcp]<3,>=2.47->tfx) (1.17.1)\n",
      "Requirement already satisfied: entrypoints in /usr/local/lib/python3.9/site-packages (from jupyter-client<8,>=5.3.4->notebook>=4.4.1->widgetsnbextension~=3.6.10->ipywidgets<8,>=7->tensorflow-model-analysis<0.48.0,>=0.47.0->tfx) (0.4)\n",
      "Requirement already satisfied: platformdirs>=2.5 in /usr/local/lib/python3.9/site-packages (from jupyter-core>=4.6.1->notebook>=4.4.1->widgetsnbextension~=3.6.10->ipywidgets<8,>=7->tensorflow-model-analysis<0.48.0,>=0.47.0->tfx) (4.3.6)\n",
      "Requirement already satisfied: notebook-shim>=0.2.3 in /usr/local/lib/python3.9/site-packages (from nbclassic>=0.4.7->notebook>=4.4.1->widgetsnbextension~=3.6.10->ipywidgets<8,>=7->tensorflow-model-analysis<0.48.0,>=0.47.0->tfx) (0.2.4)\n",
      "Requirement already satisfied: beautifulsoup4 in /usr/local/lib/python3.9/site-packages (from nbconvert>=5->notebook>=4.4.1->widgetsnbextension~=3.6.10->ipywidgets<8,>=7->tensorflow-model-analysis<0.48.0,>=0.47.0->tfx) (4.13.3)\n",
      "Requirement already satisfied: bleach!=5.0.0 in /usr/local/lib/python3.9/site-packages (from bleach[css]!=5.0.0->nbconvert>=5->notebook>=4.4.1->widgetsnbextension~=3.6.10->ipywidgets<8,>=7->tensorflow-model-analysis<0.48.0,>=0.47.0->tfx) (6.2.0)\n",
      "Requirement already satisfied: defusedxml in /usr/local/lib/python3.9/site-packages (from nbconvert>=5->notebook>=4.4.1->widgetsnbextension~=3.6.10->ipywidgets<8,>=7->tensorflow-model-analysis<0.48.0,>=0.47.0->tfx) (0.7.1)\n",
      "Requirement already satisfied: jupyterlab-pygments in /usr/local/lib/python3.9/site-packages (from nbconvert>=5->notebook>=4.4.1->widgetsnbextension~=3.6.10->ipywidgets<8,>=7->tensorflow-model-analysis<0.48.0,>=0.47.0->tfx) (0.3.0)\n",
      "Requirement already satisfied: mistune<4,>=2.0.3 in /usr/local/lib/python3.9/site-packages (from nbconvert>=5->notebook>=4.4.1->widgetsnbextension~=3.6.10->ipywidgets<8,>=7->tensorflow-model-analysis<0.48.0,>=0.47.0->tfx) (3.1.2)\n",
      "Requirement already satisfied: nbclient>=0.5.0 in /usr/local/lib/python3.9/site-packages (from nbconvert>=5->notebook>=4.4.1->widgetsnbextension~=3.6.10->ipywidgets<8,>=7->tensorflow-model-analysis<0.48.0,>=0.47.0->tfx) (0.10.2)\n",
      "Requirement already satisfied: pandocfilters>=1.4.1 in /usr/local/lib/python3.9/site-packages (from nbconvert>=5->notebook>=4.4.1->widgetsnbextension~=3.6.10->ipywidgets<8,>=7->tensorflow-model-analysis<0.48.0,>=0.47.0->tfx) (1.5.1)\n",
      "Requirement already satisfied: fastjsonschema>=2.15 in /usr/local/lib/python3.9/site-packages (from nbformat->notebook>=4.4.1->widgetsnbextension~=3.6.10->ipywidgets<8,>=7->tensorflow-model-analysis<0.48.0,>=0.47.0->tfx) (2.21.1)\n",
      "Requirement already satisfied: argon2-cffi-bindings in /usr/local/lib/python3.9/site-packages (from argon2-cffi->notebook>=4.4.1->widgetsnbextension~=3.6.10->ipywidgets<8,>=7->tensorflow-model-analysis<0.48.0,>=0.47.0->tfx) (21.2.0)\n",
      "Requirement already satisfied: debugpy>=1.6.5 in /usr/local/lib/python3.9/site-packages (from ipykernel->notebook>=4.4.1->widgetsnbextension~=3.6.10->ipywidgets<8,>=7->tensorflow-model-analysis<0.48.0,>=0.47.0->tfx) (1.8.12)\n",
      "Requirement already satisfied: webencodings in /usr/local/lib/python3.9/site-packages (from bleach!=5.0.0->bleach[css]!=5.0.0->nbconvert>=5->notebook>=4.4.1->widgetsnbextension~=3.6.10->ipywidgets<8,>=7->tensorflow-model-analysis<0.48.0,>=0.47.0->tfx) (0.5.1)\n",
      "Requirement already satisfied: tinycss2<1.5,>=1.1.0 in /usr/local/lib/python3.9/site-packages (from bleach[css]!=5.0.0->nbconvert>=5->notebook>=4.4.1->widgetsnbextension~=3.6.10->ipywidgets<8,>=7->tensorflow-model-analysis<0.48.0,>=0.47.0->tfx) (1.4.0)\n",
      "Requirement already satisfied: pycparser in /usr/local/lib/python3.9/site-packages (from cffi>=1.12->cryptography>=2.0->SecretStorage>=3.2->keyring->keyrings.google-artifactregistry-auth->apache-beam[gcp]<3,>=2.47->tfx) (2.22)\n",
      "Requirement already satisfied: jupyter-server<3,>=1.8 in /usr/local/lib/python3.9/site-packages (from notebook-shim>=0.2.3->nbclassic>=0.4.7->notebook>=4.4.1->widgetsnbextension~=3.6.10->ipywidgets<8,>=7->tensorflow-model-analysis<0.48.0,>=0.47.0->tfx) (2.15.0)\n",
      "Requirement already satisfied: soupsieve>1.2 in /usr/local/lib/python3.9/site-packages (from beautifulsoup4->nbconvert>=5->notebook>=4.4.1->widgetsnbextension~=3.6.10->ipywidgets<8,>=7->tensorflow-model-analysis<0.48.0,>=0.47.0->tfx) (2.6)\n",
      "Requirement already satisfied: anyio>=3.1.0 in /usr/local/lib/python3.9/site-packages (from jupyter-server<3,>=1.8->notebook-shim>=0.2.3->nbclassic>=0.4.7->notebook>=4.4.1->widgetsnbextension~=3.6.10->ipywidgets<8,>=7->tensorflow-model-analysis<0.48.0,>=0.47.0->tfx) (4.8.0)\n",
      "Requirement already satisfied: jupyter-events>=0.11.0 in /usr/local/lib/python3.9/site-packages (from jupyter-server<3,>=1.8->notebook-shim>=0.2.3->nbclassic>=0.4.7->notebook>=4.4.1->widgetsnbextension~=3.6.10->ipywidgets<8,>=7->tensorflow-model-analysis<0.48.0,>=0.47.0->tfx) (0.12.0)\n",
      "Requirement already satisfied: jupyter-server-terminals>=0.4.4 in /usr/local/lib/python3.9/site-packages (from jupyter-server<3,>=1.8->notebook-shim>=0.2.3->nbclassic>=0.4.7->notebook>=4.4.1->widgetsnbextension~=3.6.10->ipywidgets<8,>=7->tensorflow-model-analysis<0.48.0,>=0.47.0->tfx) (0.5.3)\n",
      "Requirement already satisfied: exceptiongroup>=1.0.2 in /usr/local/lib/python3.9/site-packages (from anyio>=3.1.0->jupyter-server<3,>=1.8->notebook-shim>=0.2.3->nbclassic>=0.4.7->notebook>=4.4.1->widgetsnbextension~=3.6.10->ipywidgets<8,>=7->tensorflow-model-analysis<0.48.0,>=0.47.0->tfx) (1.2.2)\n",
      "Requirement already satisfied: sniffio>=1.1 in /usr/local/lib/python3.9/site-packages (from anyio>=3.1.0->jupyter-server<3,>=1.8->notebook-shim>=0.2.3->nbclassic>=0.4.7->notebook>=4.4.1->widgetsnbextension~=3.6.10->ipywidgets<8,>=7->tensorflow-model-analysis<0.48.0,>=0.47.0->tfx) (1.3.1)\n",
      "Requirement already satisfied: python-json-logger>=2.0.4 in /usr/local/lib/python3.9/site-packages (from jupyter-events>=0.11.0->jupyter-server<3,>=1.8->notebook-shim>=0.2.3->nbclassic>=0.4.7->notebook>=4.4.1->widgetsnbextension~=3.6.10->ipywidgets<8,>=7->tensorflow-model-analysis<0.48.0,>=0.47.0->tfx) (3.2.1)\n",
      "Requirement already satisfied: rfc3339-validator in /usr/local/lib/python3.9/site-packages (from jupyter-events>=0.11.0->jupyter-server<3,>=1.8->notebook-shim>=0.2.3->nbclassic>=0.4.7->notebook>=4.4.1->widgetsnbextension~=3.6.10->ipywidgets<8,>=7->tensorflow-model-analysis<0.48.0,>=0.47.0->tfx) (0.1.4)\n",
      "Requirement already satisfied: rfc3986-validator>=0.1.1 in /usr/local/lib/python3.9/site-packages (from jupyter-events>=0.11.0->jupyter-server<3,>=1.8->notebook-shim>=0.2.3->nbclassic>=0.4.7->notebook>=4.4.1->widgetsnbextension~=3.6.10->ipywidgets<8,>=7->tensorflow-model-analysis<0.48.0,>=0.47.0->tfx) (0.1.1)\n",
      "Requirement already satisfied: fqdn in /usr/local/lib/python3.9/site-packages (from jsonschema[format-nongpl]>=4.18.0->jupyter-events>=0.11.0->jupyter-server<3,>=1.8->notebook-shim>=0.2.3->nbclassic>=0.4.7->notebook>=4.4.1->widgetsnbextension~=3.6.10->ipywidgets<8,>=7->tensorflow-model-analysis<0.48.0,>=0.47.0->tfx) (1.5.1)\n",
      "Requirement already satisfied: isoduration in /usr/local/lib/python3.9/site-packages (from jsonschema[format-nongpl]>=4.18.0->jupyter-events>=0.11.0->jupyter-server<3,>=1.8->notebook-shim>=0.2.3->nbclassic>=0.4.7->notebook>=4.4.1->widgetsnbextension~=3.6.10->ipywidgets<8,>=7->tensorflow-model-analysis<0.48.0,>=0.47.0->tfx) (20.11.0)\n",
      "Requirement already satisfied: jsonpointer>1.13 in /usr/local/lib/python3.9/site-packages (from jsonschema[format-nongpl]>=4.18.0->jupyter-events>=0.11.0->jupyter-server<3,>=1.8->notebook-shim>=0.2.3->nbclassic>=0.4.7->notebook>=4.4.1->widgetsnbextension~=3.6.10->ipywidgets<8,>=7->tensorflow-model-analysis<0.48.0,>=0.47.0->tfx) (3.0.0)\n",
      "Requirement already satisfied: uri-template in /usr/local/lib/python3.9/site-packages (from jsonschema[format-nongpl]>=4.18.0->jupyter-events>=0.11.0->jupyter-server<3,>=1.8->notebook-shim>=0.2.3->nbclassic>=0.4.7->notebook>=4.4.1->widgetsnbextension~=3.6.10->ipywidgets<8,>=7->tensorflow-model-analysis<0.48.0,>=0.47.0->tfx) (1.3.0)\n",
      "Requirement already satisfied: webcolors>=24.6.0 in /usr/local/lib/python3.9/site-packages (from jsonschema[format-nongpl]>=4.18.0->jupyter-events>=0.11.0->jupyter-server<3,>=1.8->notebook-shim>=0.2.3->nbclassic>=0.4.7->notebook>=4.4.1->widgetsnbextension~=3.6.10->ipywidgets<8,>=7->tensorflow-model-analysis<0.48.0,>=0.47.0->tfx) (24.11.1)\n",
      "Requirement already satisfied: arrow>=0.15.0 in /usr/local/lib/python3.9/site-packages (from isoduration->jsonschema[format-nongpl]>=4.18.0->jupyter-events>=0.11.0->jupyter-server<3,>=1.8->notebook-shim>=0.2.3->nbclassic>=0.4.7->notebook>=4.4.1->widgetsnbextension~=3.6.10->ipywidgets<8,>=7->tensorflow-model-analysis<0.48.0,>=0.47.0->tfx) (1.3.0)\n",
      "Requirement already satisfied: types-python-dateutil>=2.8.10 in /usr/local/lib/python3.9/site-packages (from arrow>=0.15.0->isoduration->jsonschema[format-nongpl]>=4.18.0->jupyter-events>=0.11.0->jupyter-server<3,>=1.8->notebook-shim>=0.2.3->nbclassic>=0.4.7->notebook>=4.4.1->widgetsnbextension~=3.6.10->ipywidgets<8,>=7->tensorflow-model-analysis<0.48.0,>=0.47.0->tfx) (2.9.0.20241206)\n",
      "\u001b[33mWARNING: Running pip as the 'root' user can result in broken permissions and conflicting behaviour with the system package manager, possibly rendering your system unusable. It is recommended to use a virtual environment instead: https://pip.pypa.io/warnings/venv. Use the --root-user-action option if you know what you are doing and want to suppress this warning.\u001b[0m\u001b[33m\n",
      "\u001b[0m"
     ]
    },
    {
     "name": "stderr",
     "output_type": "stream",
     "text": [
      "2025-03-03 04:09:26.289378: I external/local_tsl/tsl/cuda/cudart_stub.cc:32] Could not find cuda drivers on your machine, GPU will not be used.\n",
      "2025-03-03 04:09:26.297004: I external/local_tsl/tsl/cuda/cudart_stub.cc:32] Could not find cuda drivers on your machine, GPU will not be used.\n",
      "2025-03-03 04:09:26.318341: E external/local_xla/xla/stream_executor/cuda/cuda_fft.cc:479] Unable to register cuFFT factory: Attempting to register factory for plugin cuFFT when one has already been registered\n",
      "2025-03-03 04:09:26.356795: E external/local_xla/xla/stream_executor/cuda/cuda_dnn.cc:10575] Unable to register cuDNN factory: Attempting to register factory for plugin cuDNN when one has already been registered\n",
      "2025-03-03 04:09:26.356866: E external/local_xla/xla/stream_executor/cuda/cuda_blas.cc:1442] Unable to register cuBLAS factory: Attempting to register factory for plugin cuBLAS when one has already been registered\n",
      "2025-03-03 04:09:26.383981: I tensorflow/core/platform/cpu_feature_guard.cc:210] This TensorFlow binary is optimized to use available CPU instructions in performance-critical operations.\n",
      "To enable the following instructions: AVX2 FMA, in other operations, rebuild TensorFlow with the appropriate compiler flags.\n",
      "2025-03-03 04:09:28.114611: W tensorflow/compiler/tf2tensorrt/utils/py_utils.cc:38] TF-TRT Warning: Could not find TensorRT\n",
      "WARNING:absl:InteractiveContext metadata_connection_config not provided: using SQLite ML Metadata database at /home/jovyan/work/tfx_pipeline_output/metadata.sqlite.\n"
     ]
    },
    {
     "name": "stdout",
     "output_type": "stream",
     "text": [
      "Pipeline root: /home/jovyan/work/tfx_pipeline_output\n"
     ]
    }
   ],
   "source": [
    "# Instala TFX\n",
    "!pip install tfx\n",
    "\n",
    "import os\n",
    "from tfx.orchestration.experimental.interactive.interactive_context import InteractiveContext\n",
    "\n",
    "# Define la raíz del pipeline\n",
    "pipeline_root = os.path.join(os.getcwd(), \"tfx_pipeline_output\")\n",
    "\n",
    "# Crea el contexto interactivo\n",
    "context = InteractiveContext(pipeline_root=str(pipeline_root))\n",
    "\n",
    "# Verifica el directorio\n",
    "print(\"Pipeline root:\", pipeline_root)"
   ]
  },
  {
   "cell_type": "markdown",
   "id": "f83c9a79-7aec-4b70-aec7-5636180af0b7",
   "metadata": {},
   "source": [
    "**Generando ejemplos"
   ]
  },
  {
   "cell_type": "code",
   "execution_count": 13,
   "id": "34083826-0563-418c-b834-a7a71b97517e",
   "metadata": {
    "tags": []
   },
   "outputs": [
    {
     "name": "stdout",
     "output_type": "stream",
     "text": [
      "Archivos en data_prepro: ['covertype_preprocessed.csv']\n",
      "CsvExampleGen ejecutado correctamente\n"
     ]
    }
   ],
   "source": [
    "from tfx.components import CsvExampleGen\n",
    "from tfx.proto import example_gen_pb2\n",
    "\n",
    "# 2) Define la carpeta donde se encuentra tu CSV.\n",
    "data_root_prepro = os.path.join(os.getcwd(), \"data_prepro\")\n",
    "print(\"Archivos en data_prepro:\", os.listdir(data_root_prepro))\n",
    "\n",
    "# 3) Configura el input_config para que solo se procese 'covertype_preprocessed.csv'\n",
    "input_config = example_gen_pb2.Input(\n",
    "    splits=[\n",
    "        example_gen_pb2.Input.Split(\n",
    "            name='train',       # Nombre del split (puedes ajustarlo si lo deseas)\n",
    "            pattern='covertype_preprocessed.csv'  # Solo este archivo\n",
    "        )\n",
    "    ]\n",
    ")\n",
    "\n",
    "# 4) Instancia CsvExampleGen usando el input_config definido\n",
    "example_gen = CsvExampleGen(\n",
    "    input_base=data_root_prepro,\n",
    "    input_config=input_config\n",
    ")\n",
    "\n",
    "# 5) Ejecuta el componente en el contexto interactivo\n",
    "context.run(example_gen)\n",
    "\n",
    "print(\"CsvExampleGen ejecutado correctamente\")\n"
   ]
  },
  {
   "cell_type": "markdown",
   "id": "41ac3906-d1d6-4943-a392-533f85eb1d53",
   "metadata": {},
   "source": [
    "**4.3 Estadísticas"
   ]
  },
  {
   "cell_type": "code",
   "execution_count": 14,
   "id": "5f90f5c7-065c-487d-bbcd-2746c0d69441",
   "metadata": {
    "tags": []
   },
   "outputs": [
    {
     "name": "stdout",
     "output_type": "stream",
     "text": [
      "split names: [\"train\", \"eval\"]\n",
      "artifact uri: /home/jovyan/work/tfx_pipeline_output/CsvExampleGen/examples/9\n",
      "StatisticsGen ejecutado correctamente\n"
     ]
    }
   ],
   "source": [
    "# Obtener el objeto de ejemplo (Artifact)\n",
    "artifact = example_gen.outputs['examples'].get()[0]\n",
    "\n",
    "# Imprimir información del artifact\n",
    "print(f'split names: {artifact.split_names}')\n",
    "print(f'artifact uri: {artifact.uri}')\n",
    "\n",
    "# Instanciar el componente StatisticsGen\n",
    "from tfx.components import StatisticsGen\n",
    "statistics_gen = StatisticsGen(examples=example_gen.outputs['examples'])\n",
    "\n",
    "#Ejecutar el componente en el contexto interactivo\n",
    "context.run(statistics_gen)\n",
    "print(\"StatisticsGen ejecutado correctamente\")"
   ]
  },
  {
   "cell_type": "code",
   "execution_count": 15,
   "id": "eb4e6cd3",
   "metadata": {
    "tags": []
   },
   "outputs": [
    {
     "data": {
      "text/html": [
       "<b>Artifact at /home/jovyan/work/tfx_pipeline_output/StatisticsGen/statistics/4</b><br/><br/>"
      ],
      "text/plain": [
       "<IPython.core.display.HTML object>"
      ]
     },
     "metadata": {},
     "output_type": "display_data"
    },
    {
     "data": {
      "text/html": [
       "<style>html[theme=dark] iframe {background: white;}</style>"
      ],
      "text/plain": [
       "<IPython.core.display.HTML object>"
      ]
     },
     "metadata": {},
     "output_type": "display_data"
    },
    {
     "data": {
      "text/html": [
       "<div><b>'train' split:</b></div><br/>"
      ],
      "text/plain": [
       "<IPython.core.display.HTML object>"
      ]
     },
     "metadata": {},
     "output_type": "display_data"
    },
    {
     "data": {
      "text/html": [
       "<iframe id='facets-iframe' width=\"100%\" height=\"500px\"></iframe>\n",
       "        <script>\n",
       "        facets_iframe = document.getElementById('facets-iframe');\n",
       "        facets_html = '<script src=\"https://cdnjs.cloudflare.com/ajax/libs/webcomponentsjs/1.3.3/webcomponents-lite.js\"><\\/script><link rel=\"import\" href=\"https://raw.githubusercontent.com/PAIR-code/facets/master/facets-dist/facets-jupyter.html\"><facets-overview proto-input=\"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\"></facets-overview>';\n",
       "        facets_iframe.srcdoc = facets_html;\n",
       "         facets_iframe.id = \"\";\n",
       "         setTimeout(() => {\n",
       "           facets_iframe.setAttribute('height', facets_iframe.contentWindow.document.body.offsetHeight + 'px')\n",
       "         }, 1500)\n",
       "         </script>"
      ],
      "text/plain": [
       "<IPython.core.display.HTML object>"
      ]
     },
     "metadata": {},
     "output_type": "display_data"
    },
    {
     "data": {
      "text/html": [
       "<div><b>'eval' split:</b></div><br/>"
      ],
      "text/plain": [
       "<IPython.core.display.HTML object>"
      ]
     },
     "metadata": {},
     "output_type": "display_data"
    },
    {
     "data": {
      "text/html": [
       "<iframe id='facets-iframe' width=\"100%\" height=\"500px\"></iframe>\n",
       "        <script>\n",
       "        facets_iframe = document.getElementById('facets-iframe');\n",
       "        facets_html = '<script src=\"https://cdnjs.cloudflare.com/ajax/libs/webcomponentsjs/1.3.3/webcomponents-lite.js\"><\\/script><link rel=\"import\" href=\"https://raw.githubusercontent.com/PAIR-code/facets/master/facets-dist/facets-jupyter.html\"><facets-overview proto-input=\"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\"></facets-overview>';\n",
       "        facets_iframe.srcdoc = facets_html;\n",
       "         facets_iframe.id = \"\";\n",
       "         setTimeout(() => {\n",
       "           facets_iframe.setAttribute('height', facets_iframe.contentWindow.document.body.offsetHeight + 'px')\n",
       "         }, 1500)\n",
       "         </script>"
      ],
      "text/plain": [
       "<IPython.core.display.HTML object>"
      ]
     },
     "metadata": {},
     "output_type": "display_data"
    }
   ],
   "source": [
    "#Mostrar la salida de estadísticas\n",
    "context.show(statistics_gen.outputs['statistics'])"
   ]
  },
  {
   "cell_type": "markdown",
   "id": "e8a0a3d7",
   "metadata": {},
   "source": [
    "Despues de revisar lo anterior se puede observar como dice el documento del proyecto que la columna ceros para Cover type está resaltada en rojo. \n"
   ]
  },
  {
   "cell_type": "markdown",
   "id": "0f47aac0",
   "metadata": {},
   "source": [
    "**4.4 Inferir el esquema (SchemaGen)\n",
    "\n",
    "A partir de las estadísticas calculadas, SchemaGen infiere un esquema que describe las características de tus datos (tipos, rangos, valores esperados, etc.)."
   ]
  },
  {
   "cell_type": "code",
   "execution_count": 15,
   "id": "16739d41",
   "metadata": {
    "tags": []
   },
   "outputs": [
    {
     "name": "stdout",
     "output_type": "stream",
     "text": [
      "SchemaGen ejecutado correctamente\n"
     ]
    }
   ],
   "source": [
    "from tfx.components import SchemaGen\n",
    "\n",
    "# Instanciar SchemaGen utilizando las estadísticas generadas\n",
    "schema_gen = SchemaGen(statistics=statistics_gen.outputs['statistics'],)\n",
    "\n",
    "# Ejecutar el componente en el contexto interactivo\n",
    "context.run(schema_gen)\n",
    "\n",
    "print(\"SchemaGen ejecutado correctamente\")"
   ]
  },
  {
   "cell_type": "code",
   "execution_count": 16,
   "id": "43c4d41b-fc46-45a7-887e-916c393c0fca",
   "metadata": {
    "tags": []
   },
   "outputs": [
    {
     "data": {
      "text/html": [
       "<b>Artifact at /home/jovyan/work/tfx_pipeline_output/SchemaGen/schema/13</b><br/><br/>"
      ],
      "text/plain": [
       "<IPython.core.display.HTML object>"
      ]
     },
     "metadata": {},
     "output_type": "display_data"
    },
    {
     "data": {
      "text/html": [
       "<div>\n",
       "<style scoped>\n",
       "    .dataframe tbody tr th:only-of-type {\n",
       "        vertical-align: middle;\n",
       "    }\n",
       "\n",
       "    .dataframe tbody tr th {\n",
       "        vertical-align: top;\n",
       "    }\n",
       "\n",
       "    .dataframe thead th {\n",
       "        text-align: right;\n",
       "    }\n",
       "</style>\n",
       "<table border=\"1\" class=\"dataframe\">\n",
       "  <thead>\n",
       "    <tr style=\"text-align: right;\">\n",
       "      <th></th>\n",
       "      <th>Type</th>\n",
       "      <th>Presence</th>\n",
       "      <th>Valency</th>\n",
       "      <th>Domain</th>\n",
       "    </tr>\n",
       "    <tr>\n",
       "      <th>Feature name</th>\n",
       "      <th></th>\n",
       "      <th></th>\n",
       "      <th></th>\n",
       "      <th></th>\n",
       "    </tr>\n",
       "  </thead>\n",
       "  <tbody>\n",
       "    <tr>\n",
       "      <th>'Cover_Type'</th>\n",
       "      <td>INT</td>\n",
       "      <td>required</td>\n",
       "      <td></td>\n",
       "      <td>-</td>\n",
       "    </tr>\n",
       "    <tr>\n",
       "      <th>'Elevation'</th>\n",
       "      <td>INT</td>\n",
       "      <td>required</td>\n",
       "      <td></td>\n",
       "      <td>-</td>\n",
       "    </tr>\n",
       "    <tr>\n",
       "      <th>'Hillshade_9am'</th>\n",
       "      <td>INT</td>\n",
       "      <td>required</td>\n",
       "      <td></td>\n",
       "      <td>-</td>\n",
       "    </tr>\n",
       "    <tr>\n",
       "      <th>'Hillshade_Noon'</th>\n",
       "      <td>INT</td>\n",
       "      <td>required</td>\n",
       "      <td></td>\n",
       "      <td>-</td>\n",
       "    </tr>\n",
       "    <tr>\n",
       "      <th>'Horizontal_Distance_To_Fire_Points'</th>\n",
       "      <td>INT</td>\n",
       "      <td>required</td>\n",
       "      <td></td>\n",
       "      <td>-</td>\n",
       "    </tr>\n",
       "    <tr>\n",
       "      <th>'Horizontal_Distance_To_Hydrology'</th>\n",
       "      <td>INT</td>\n",
       "      <td>required</td>\n",
       "      <td></td>\n",
       "      <td>-</td>\n",
       "    </tr>\n",
       "    <tr>\n",
       "      <th>'Horizontal_Distance_To_Roadways'</th>\n",
       "      <td>INT</td>\n",
       "      <td>required</td>\n",
       "      <td></td>\n",
       "      <td>-</td>\n",
       "    </tr>\n",
       "    <tr>\n",
       "      <th>'Slope'</th>\n",
       "      <td>INT</td>\n",
       "      <td>required</td>\n",
       "      <td></td>\n",
       "      <td>-</td>\n",
       "    </tr>\n",
       "    <tr>\n",
       "      <th>'Vertical_Distance_To_Hydrology'</th>\n",
       "      <td>INT</td>\n",
       "      <td>required</td>\n",
       "      <td></td>\n",
       "      <td>-</td>\n",
       "    </tr>\n",
       "  </tbody>\n",
       "</table>\n",
       "</div>"
      ],
      "text/plain": [
       "                                     Type  Presence Valency Domain\n",
       "Feature name                                                      \n",
       "'Cover_Type'                          INT  required              -\n",
       "'Elevation'                           INT  required              -\n",
       "'Hillshade_9am'                       INT  required              -\n",
       "'Hillshade_Noon'                      INT  required              -\n",
       "'Horizontal_Distance_To_Fire_Points'  INT  required              -\n",
       "'Horizontal_Distance_To_Hydrology'    INT  required              -\n",
       "'Horizontal_Distance_To_Roadways'     INT  required              -\n",
       "'Slope'                               INT  required              -\n",
       "'Vertical_Distance_To_Hydrology'      INT  required              -"
      ]
     },
     "metadata": {},
     "output_type": "display_data"
    }
   ],
   "source": [
    "# Visualizar el Schema\n",
    "context.show(schema_gen.outputs['schema'])"
   ]
  },
  {
   "cell_type": "markdown",
   "id": "98efd2d6",
   "metadata": {},
   "source": [
    "** 4.5 Curando el esquema\n",
    "\n",
    "En este paso se revisa y, si es necesario, se ajusta (curar) el esquema inferido. Esto puede implicar:\n",
    "\n",
    "Establecer rangos de valores para ciertas columnas (por ejemplo, Hillshade entre 0 y 255, Slope entre 0 y 90, etc.).\n",
    "Declarar que la columna de la etiqueta (Cover Type) es categórica.\n",
    "Este proceso se puede hacer manualmente editando el archivo de esquema (por ejemplo, un archivo YAML o JSON generado por SchemaGen) o programáticamente usando las utilidades de TensorFlow Data Validation (TFDV)."
   ]
  },
  {
   "cell_type": "code",
   "execution_count": 17,
   "id": "2fc99e1a",
   "metadata": {
    "tags": []
   },
   "outputs": [
    {
     "name": "stdout",
     "output_type": "stream",
     "text": [
      "Tipo de esquema: <class 'tensorflow_metadata.proto.v0.schema_pb2.Schema'>\n"
     ]
    }
   ],
   "source": [
    "import tensorflow_data_validation as tfdv\n",
    "from tensorflow_metadata.proto.v0 import schema_pb2\n",
    "\n",
    "# 1. Cargar el esquema inferido\n",
    "# Se obtiene el esquema inferido desde el artifact generado por SchemaGen bajo el nombre \"schema.pbtxt\"\n",
    "schema_path = schema_gen.outputs['schema'].get()[0].uri + \"/schema.pbtxt\"\n",
    "# 2.Cargar el esquema desde el archivo (en formato texto Protobuf)\n",
    "schema = tfdv.load_schema_text(schema_path)\n",
    "print(\"Tipo de esquema:\", type(schema))"
   ]
  },
  {
   "cell_type": "code",
   "execution_count": 18,
   "id": "26e1b0a8",
   "metadata": {
    "tags": []
   },
   "outputs": [],
   "source": [
    "# 3.Curar el esquema: establecer rangos esperados\n",
    "# Establecer rango para 'Hillshade_9am' (0 a 255)\n",
    "tfdv.set_domain(schema, 'Hillshade_9am', schema_pb2.IntDomain(min=0, max=255))\n",
    "# Establecer rango para 'Hillshade_Noon' (0 a 255)\n",
    "tfdv.set_domain(schema, 'Hillshade_Noon', schema_pb2.IntDomain(min=0, max=255))\n",
    "# Establecer rango para 'Slope' (0 a 90)\n",
    "tfdv.set_domain(schema, 'Slope', schema_pb2.IntDomain(min=0, max=90))\n",
    "# Para 'Cover_Type': dado que en el preprocesamiento se restó 1 y se trata como etiqueta,\n",
    "# se define un dominio de tipo string con los valores de '0' a '6'\n",
    "tfdv.set_domain(schema, 'Cover_Type', schema_pb2.StringDomain(value=['0', '1', '2', '3', '4', '5', '6']))"
   ]
  },
  {
   "cell_type": "markdown",
   "id": "38b1d942",
   "metadata": {},
   "source": [
    "A continuación se actualiza el esquema en memoria,además escribe esos cambios en el archivo del esquema y vuelve a cargarlo en el artifact, garantizando que el pipeline utilizará el esquema curado."
   ]
  },
  {
   "cell_type": "code",
   "execution_count": 20,
   "id": "55a53b36-30d9-4f93-945c-f3de3e302c12",
   "metadata": {
    "tags": []
   },
   "outputs": [],
   "source": [
    "schema.feature[0].type = schema_pb2.FeatureType.BYTES"
   ]
  },
  {
   "cell_type": "code",
   "execution_count": 24,
   "id": "a90baad1",
   "metadata": {
    "tags": []
   },
   "outputs": [
    {
     "data": {
      "text/plain": [
       "feature {\n",
       "  name: \"Cover_Type\"\n",
       "  type: BYTES\n",
       "  string_domain {\n",
       "    value: \"0\"\n",
       "    value: \"1\"\n",
       "    value: \"2\"\n",
       "    value: \"3\"\n",
       "    value: \"4\"\n",
       "    value: \"5\"\n",
       "    value: \"6\"\n",
       "  }\n",
       "  presence {\n",
       "    min_fraction: 1.0\n",
       "    min_count: 1\n",
       "  }\n",
       "  shape {\n",
       "    dim {\n",
       "      size: 1\n",
       "    }\n",
       "  }\n",
       "}\n",
       "feature {\n",
       "  name: \"Elevation\"\n",
       "  type: INT\n",
       "  presence {\n",
       "    min_fraction: 1.0\n",
       "    min_count: 1\n",
       "  }\n",
       "  shape {\n",
       "    dim {\n",
       "      size: 1\n",
       "    }\n",
       "  }\n",
       "}\n",
       "feature {\n",
       "  name: \"Hillshade_9am\"\n",
       "  type: INT\n",
       "  int_domain {\n",
       "    min: 0\n",
       "    max: 255\n",
       "  }\n",
       "  presence {\n",
       "    min_fraction: 1.0\n",
       "    min_count: 1\n",
       "  }\n",
       "  shape {\n",
       "    dim {\n",
       "      size: 1\n",
       "    }\n",
       "  }\n",
       "}\n",
       "feature {\n",
       "  name: \"Hillshade_Noon\"\n",
       "  type: INT\n",
       "  int_domain {\n",
       "    min: 0\n",
       "    max: 255\n",
       "  }\n",
       "  presence {\n",
       "    min_fraction: 1.0\n",
       "    min_count: 1\n",
       "  }\n",
       "  shape {\n",
       "    dim {\n",
       "      size: 1\n",
       "    }\n",
       "  }\n",
       "}\n",
       "feature {\n",
       "  name: \"Horizontal_Distance_To_Fire_Points\"\n",
       "  type: INT\n",
       "  presence {\n",
       "    min_fraction: 1.0\n",
       "    min_count: 1\n",
       "  }\n",
       "  shape {\n",
       "    dim {\n",
       "      size: 1\n",
       "    }\n",
       "  }\n",
       "}\n",
       "feature {\n",
       "  name: \"Horizontal_Distance_To_Hydrology\"\n",
       "  type: INT\n",
       "  presence {\n",
       "    min_fraction: 1.0\n",
       "    min_count: 1\n",
       "  }\n",
       "  shape {\n",
       "    dim {\n",
       "      size: 1\n",
       "    }\n",
       "  }\n",
       "}\n",
       "feature {\n",
       "  name: \"Horizontal_Distance_To_Roadways\"\n",
       "  type: INT\n",
       "  presence {\n",
       "    min_fraction: 1.0\n",
       "    min_count: 1\n",
       "  }\n",
       "  shape {\n",
       "    dim {\n",
       "      size: 1\n",
       "    }\n",
       "  }\n",
       "}\n",
       "feature {\n",
       "  name: \"Slope\"\n",
       "  type: INT\n",
       "  int_domain {\n",
       "    min: 0\n",
       "    max: 90\n",
       "  }\n",
       "  presence {\n",
       "    min_fraction: 1.0\n",
       "    min_count: 1\n",
       "  }\n",
       "  shape {\n",
       "    dim {\n",
       "      size: 1\n",
       "    }\n",
       "  }\n",
       "}\n",
       "feature {\n",
       "  name: \"Vertical_Distance_To_Hydrology\"\n",
       "  type: INT\n",
       "  presence {\n",
       "    min_fraction: 1.0\n",
       "    min_count: 1\n",
       "  }\n",
       "  shape {\n",
       "    dim {\n",
       "      size: 1\n",
       "    }\n",
       "  }\n",
       "}"
      ]
     },
     "execution_count": 24,
     "metadata": {},
     "output_type": "execute_result"
    }
   ],
   "source": [
    "schema"
   ]
  },
  {
   "cell_type": "code",
   "execution_count": 25,
   "id": "7f108c83",
   "metadata": {
    "tags": []
   },
   "outputs": [
    {
     "name": "stdout",
     "output_type": "stream",
     "text": [
      "\n",
      "Esquema actualizado (en memoria):\n"
     ]
    },
    {
     "data": {
      "text/html": [
       "<div>\n",
       "<style scoped>\n",
       "    .dataframe tbody tr th:only-of-type {\n",
       "        vertical-align: middle;\n",
       "    }\n",
       "\n",
       "    .dataframe tbody tr th {\n",
       "        vertical-align: top;\n",
       "    }\n",
       "\n",
       "    .dataframe thead th {\n",
       "        text-align: right;\n",
       "    }\n",
       "</style>\n",
       "<table border=\"1\" class=\"dataframe\">\n",
       "  <thead>\n",
       "    <tr style=\"text-align: right;\">\n",
       "      <th></th>\n",
       "      <th>Type</th>\n",
       "      <th>Presence</th>\n",
       "      <th>Valency</th>\n",
       "      <th>Domain</th>\n",
       "    </tr>\n",
       "    <tr>\n",
       "      <th>Feature name</th>\n",
       "      <th></th>\n",
       "      <th></th>\n",
       "      <th></th>\n",
       "      <th></th>\n",
       "    </tr>\n",
       "  </thead>\n",
       "  <tbody>\n",
       "    <tr>\n",
       "      <th>'Cover_Type'</th>\n",
       "      <td>STRING</td>\n",
       "      <td>required</td>\n",
       "      <td></td>\n",
       "      <td>'Cover_Type_domain'</td>\n",
       "    </tr>\n",
       "    <tr>\n",
       "      <th>'Elevation'</th>\n",
       "      <td>INT</td>\n",
       "      <td>required</td>\n",
       "      <td></td>\n",
       "      <td>-</td>\n",
       "    </tr>\n",
       "    <tr>\n",
       "      <th>'Hillshade_9am'</th>\n",
       "      <td>INT</td>\n",
       "      <td>required</td>\n",
       "      <td></td>\n",
       "      <td>min: 0; max: 255</td>\n",
       "    </tr>\n",
       "    <tr>\n",
       "      <th>'Hillshade_Noon'</th>\n",
       "      <td>INT</td>\n",
       "      <td>required</td>\n",
       "      <td></td>\n",
       "      <td>min: 0; max: 255</td>\n",
       "    </tr>\n",
       "    <tr>\n",
       "      <th>'Horizontal_Distance_To_Fire_Points'</th>\n",
       "      <td>INT</td>\n",
       "      <td>required</td>\n",
       "      <td></td>\n",
       "      <td>-</td>\n",
       "    </tr>\n",
       "    <tr>\n",
       "      <th>'Horizontal_Distance_To_Hydrology'</th>\n",
       "      <td>INT</td>\n",
       "      <td>required</td>\n",
       "      <td></td>\n",
       "      <td>-</td>\n",
       "    </tr>\n",
       "    <tr>\n",
       "      <th>'Horizontal_Distance_To_Roadways'</th>\n",
       "      <td>INT</td>\n",
       "      <td>required</td>\n",
       "      <td></td>\n",
       "      <td>-</td>\n",
       "    </tr>\n",
       "    <tr>\n",
       "      <th>'Slope'</th>\n",
       "      <td>INT</td>\n",
       "      <td>required</td>\n",
       "      <td></td>\n",
       "      <td>min: 0; max: 90</td>\n",
       "    </tr>\n",
       "    <tr>\n",
       "      <th>'Vertical_Distance_To_Hydrology'</th>\n",
       "      <td>INT</td>\n",
       "      <td>required</td>\n",
       "      <td></td>\n",
       "      <td>-</td>\n",
       "    </tr>\n",
       "  </tbody>\n",
       "</table>\n",
       "</div>"
      ],
      "text/plain": [
       "                                        Type  Presence Valency  \\\n",
       "Feature name                                                     \n",
       "'Cover_Type'                          STRING  required           \n",
       "'Elevation'                              INT  required           \n",
       "'Hillshade_9am'                          INT  required           \n",
       "'Hillshade_Noon'                         INT  required           \n",
       "'Horizontal_Distance_To_Fire_Points'     INT  required           \n",
       "'Horizontal_Distance_To_Hydrology'       INT  required           \n",
       "'Horizontal_Distance_To_Roadways'        INT  required           \n",
       "'Slope'                                  INT  required           \n",
       "'Vertical_Distance_To_Hydrology'         INT  required           \n",
       "\n",
       "                                                   Domain  \n",
       "Feature name                                               \n",
       "'Cover_Type'                          'Cover_Type_domain'  \n",
       "'Elevation'                                             -  \n",
       "'Hillshade_9am'                          min: 0; max: 255  \n",
       "'Hillshade_Noon'                         min: 0; max: 255  \n",
       "'Horizontal_Distance_To_Fire_Points'                    -  \n",
       "'Horizontal_Distance_To_Hydrology'                      -  \n",
       "'Horizontal_Distance_To_Roadways'                       -  \n",
       "'Slope'                                   min: 0; max: 90  \n",
       "'Vertical_Distance_To_Hydrology'                        -  "
      ]
     },
     "metadata": {},
     "output_type": "display_data"
    },
    {
     "data": {
      "text/html": [
       "<div>\n",
       "<style scoped>\n",
       "    .dataframe tbody tr th:only-of-type {\n",
       "        vertical-align: middle;\n",
       "    }\n",
       "\n",
       "    .dataframe tbody tr th {\n",
       "        vertical-align: top;\n",
       "    }\n",
       "\n",
       "    .dataframe thead th {\n",
       "        text-align: right;\n",
       "    }\n",
       "</style>\n",
       "<table border=\"1\" class=\"dataframe\">\n",
       "  <thead>\n",
       "    <tr style=\"text-align: right;\">\n",
       "      <th></th>\n",
       "      <th>Values</th>\n",
       "    </tr>\n",
       "    <tr>\n",
       "      <th>Domain</th>\n",
       "      <th></th>\n",
       "    </tr>\n",
       "  </thead>\n",
       "  <tbody>\n",
       "    <tr>\n",
       "      <th>'Cover_Type_domain'</th>\n",
       "      <td>'0', '1', '2', '3', '4', '5', '6'</td>\n",
       "    </tr>\n",
       "  </tbody>\n",
       "</table>\n",
       "</div>"
      ],
      "text/plain": [
       "                                                Values\n",
       "Domain                                                \n",
       "'Cover_Type_domain'  '0', '1', '2', '3', '4', '5', '6'"
      ]
     },
     "metadata": {},
     "output_type": "display_data"
    }
   ],
   "source": [
    "# 4. Mostrar el esquema actualizado en memoria\n",
    "print(\"\\nEsquema actualizado (en memoria):\")\n",
    "tfdv.display_schema(schema)"
   ]
  },
  {
   "cell_type": "code",
   "execution_count": 27,
   "id": "e50d1ceb",
   "metadata": {
    "tags": []
   },
   "outputs": [
    {
     "name": "stdout",
     "output_type": "stream",
     "text": [
      "\n",
      "Esquema original inferido (antes de sobrescribir):\n"
     ]
    },
    {
     "data": {
      "text/html": [
       "<b>Artifact at /home/jovyan/work/tfx_pipeline_output/SchemaGen/schema/13</b><br/><br/>"
      ],
      "text/plain": [
       "<IPython.core.display.HTML object>"
      ]
     },
     "metadata": {},
     "output_type": "display_data"
    },
    {
     "data": {
      "text/html": [
       "<div>\n",
       "<style scoped>\n",
       "    .dataframe tbody tr th:only-of-type {\n",
       "        vertical-align: middle;\n",
       "    }\n",
       "\n",
       "    .dataframe tbody tr th {\n",
       "        vertical-align: top;\n",
       "    }\n",
       "\n",
       "    .dataframe thead th {\n",
       "        text-align: right;\n",
       "    }\n",
       "</style>\n",
       "<table border=\"1\" class=\"dataframe\">\n",
       "  <thead>\n",
       "    <tr style=\"text-align: right;\">\n",
       "      <th></th>\n",
       "      <th>Type</th>\n",
       "      <th>Presence</th>\n",
       "      <th>Valency</th>\n",
       "      <th>Domain</th>\n",
       "    </tr>\n",
       "    <tr>\n",
       "      <th>Feature name</th>\n",
       "      <th></th>\n",
       "      <th></th>\n",
       "      <th></th>\n",
       "      <th></th>\n",
       "    </tr>\n",
       "  </thead>\n",
       "  <tbody>\n",
       "    <tr>\n",
       "      <th>'Cover_Type'</th>\n",
       "      <td>INT</td>\n",
       "      <td>required</td>\n",
       "      <td></td>\n",
       "      <td>-</td>\n",
       "    </tr>\n",
       "    <tr>\n",
       "      <th>'Elevation'</th>\n",
       "      <td>INT</td>\n",
       "      <td>required</td>\n",
       "      <td></td>\n",
       "      <td>-</td>\n",
       "    </tr>\n",
       "    <tr>\n",
       "      <th>'Hillshade_9am'</th>\n",
       "      <td>INT</td>\n",
       "      <td>required</td>\n",
       "      <td></td>\n",
       "      <td>-</td>\n",
       "    </tr>\n",
       "    <tr>\n",
       "      <th>'Hillshade_Noon'</th>\n",
       "      <td>INT</td>\n",
       "      <td>required</td>\n",
       "      <td></td>\n",
       "      <td>-</td>\n",
       "    </tr>\n",
       "    <tr>\n",
       "      <th>'Horizontal_Distance_To_Fire_Points'</th>\n",
       "      <td>INT</td>\n",
       "      <td>required</td>\n",
       "      <td></td>\n",
       "      <td>-</td>\n",
       "    </tr>\n",
       "    <tr>\n",
       "      <th>'Horizontal_Distance_To_Hydrology'</th>\n",
       "      <td>INT</td>\n",
       "      <td>required</td>\n",
       "      <td></td>\n",
       "      <td>-</td>\n",
       "    </tr>\n",
       "    <tr>\n",
       "      <th>'Horizontal_Distance_To_Roadways'</th>\n",
       "      <td>INT</td>\n",
       "      <td>required</td>\n",
       "      <td></td>\n",
       "      <td>-</td>\n",
       "    </tr>\n",
       "    <tr>\n",
       "      <th>'Slope'</th>\n",
       "      <td>INT</td>\n",
       "      <td>required</td>\n",
       "      <td></td>\n",
       "      <td>-</td>\n",
       "    </tr>\n",
       "    <tr>\n",
       "      <th>'Vertical_Distance_To_Hydrology'</th>\n",
       "      <td>INT</td>\n",
       "      <td>required</td>\n",
       "      <td></td>\n",
       "      <td>-</td>\n",
       "    </tr>\n",
       "  </tbody>\n",
       "</table>\n",
       "</div>"
      ],
      "text/plain": [
       "                                     Type  Presence Valency Domain\n",
       "Feature name                                                      \n",
       "'Cover_Type'                          INT  required              -\n",
       "'Elevation'                           INT  required              -\n",
       "'Hillshade_9am'                       INT  required              -\n",
       "'Hillshade_Noon'                      INT  required              -\n",
       "'Horizontal_Distance_To_Fire_Points'  INT  required              -\n",
       "'Horizontal_Distance_To_Hydrology'    INT  required              -\n",
       "'Horizontal_Distance_To_Roadways'     INT  required              -\n",
       "'Slope'                               INT  required              -\n",
       "'Vertical_Distance_To_Hydrology'      INT  required              -"
      ]
     },
     "metadata": {},
     "output_type": "display_data"
    }
   ],
   "source": [
    "# 5. Mostrar el esquema original (tal como está almacenado en el artifact) para comparar\n",
    "print(\"\\nEsquema original inferido (antes de sobrescribir):\")\n",
    "context.show(schema_gen.outputs['schema'])"
   ]
  },
  {
   "cell_type": "code",
   "execution_count": 29,
   "id": "42e57e0e",
   "metadata": {
    "tags": []
   },
   "outputs": [
    {
     "name": "stdout",
     "output_type": "stream",
     "text": [
      "\n",
      "Esquema actualizado guardado en: /home/jovyan/work/tfx_pipeline_output/SchemaGen/schema/13/schema.pbtxt\n"
     ]
    }
   ],
   "source": [
    "# 6. Sobrescribir el archivo de esquema con el esquema curado para que los cambios sean persistentes\n",
    "tfdv.write_schema_text(schema, schema_path)\n",
    "print(\"\\nEsquema actualizado guardado en:\", schema_path)"
   ]
  },
  {
   "cell_type": "code",
   "execution_count": 38,
   "id": "4fdc669e",
   "metadata": {
    "tags": []
   },
   "outputs": [
    {
     "name": "stdout",
     "output_type": "stream",
     "text": [
      "\n",
      "Esquema en el artifact después de la actualización:\n"
     ]
    },
    {
     "data": {
      "text/html": [
       "<b>Artifact at /home/jovyan/work/tfx_pipeline_output/SchemaGen/schema/13</b><br/><br/>"
      ],
      "text/plain": [
       "<IPython.core.display.HTML object>"
      ]
     },
     "metadata": {},
     "output_type": "display_data"
    },
    {
     "data": {
      "text/html": [
       "<div>\n",
       "<style scoped>\n",
       "    .dataframe tbody tr th:only-of-type {\n",
       "        vertical-align: middle;\n",
       "    }\n",
       "\n",
       "    .dataframe tbody tr th {\n",
       "        vertical-align: top;\n",
       "    }\n",
       "\n",
       "    .dataframe thead th {\n",
       "        text-align: right;\n",
       "    }\n",
       "</style>\n",
       "<table border=\"1\" class=\"dataframe\">\n",
       "  <thead>\n",
       "    <tr style=\"text-align: right;\">\n",
       "      <th></th>\n",
       "      <th>Type</th>\n",
       "      <th>Presence</th>\n",
       "      <th>Valency</th>\n",
       "      <th>Domain</th>\n",
       "    </tr>\n",
       "    <tr>\n",
       "      <th>Feature name</th>\n",
       "      <th></th>\n",
       "      <th></th>\n",
       "      <th></th>\n",
       "      <th></th>\n",
       "    </tr>\n",
       "  </thead>\n",
       "  <tbody>\n",
       "    <tr>\n",
       "      <th>'Cover_Type'</th>\n",
       "      <td>STRING</td>\n",
       "      <td>required</td>\n",
       "      <td></td>\n",
       "      <td>'Cover_Type_domain'</td>\n",
       "    </tr>\n",
       "    <tr>\n",
       "      <th>'Elevation'</th>\n",
       "      <td>INT</td>\n",
       "      <td>required</td>\n",
       "      <td></td>\n",
       "      <td>-</td>\n",
       "    </tr>\n",
       "    <tr>\n",
       "      <th>'Hillshade_9am'</th>\n",
       "      <td>INT</td>\n",
       "      <td>required</td>\n",
       "      <td></td>\n",
       "      <td>min: 0; max: 255</td>\n",
       "    </tr>\n",
       "    <tr>\n",
       "      <th>'Hillshade_Noon'</th>\n",
       "      <td>INT</td>\n",
       "      <td>required</td>\n",
       "      <td></td>\n",
       "      <td>min: 0; max: 255</td>\n",
       "    </tr>\n",
       "    <tr>\n",
       "      <th>'Horizontal_Distance_To_Fire_Points'</th>\n",
       "      <td>INT</td>\n",
       "      <td>required</td>\n",
       "      <td></td>\n",
       "      <td>-</td>\n",
       "    </tr>\n",
       "    <tr>\n",
       "      <th>'Horizontal_Distance_To_Hydrology'</th>\n",
       "      <td>INT</td>\n",
       "      <td>required</td>\n",
       "      <td></td>\n",
       "      <td>-</td>\n",
       "    </tr>\n",
       "    <tr>\n",
       "      <th>'Horizontal_Distance_To_Roadways'</th>\n",
       "      <td>INT</td>\n",
       "      <td>required</td>\n",
       "      <td></td>\n",
       "      <td>-</td>\n",
       "    </tr>\n",
       "    <tr>\n",
       "      <th>'Slope'</th>\n",
       "      <td>INT</td>\n",
       "      <td>required</td>\n",
       "      <td></td>\n",
       "      <td>min: 0; max: 90</td>\n",
       "    </tr>\n",
       "    <tr>\n",
       "      <th>'Vertical_Distance_To_Hydrology'</th>\n",
       "      <td>INT</td>\n",
       "      <td>required</td>\n",
       "      <td></td>\n",
       "      <td>-</td>\n",
       "    </tr>\n",
       "  </tbody>\n",
       "</table>\n",
       "</div>"
      ],
      "text/plain": [
       "                                        Type  Presence Valency  \\\n",
       "Feature name                                                     \n",
       "'Cover_Type'                          STRING  required           \n",
       "'Elevation'                              INT  required           \n",
       "'Hillshade_9am'                          INT  required           \n",
       "'Hillshade_Noon'                         INT  required           \n",
       "'Horizontal_Distance_To_Fire_Points'     INT  required           \n",
       "'Horizontal_Distance_To_Hydrology'       INT  required           \n",
       "'Horizontal_Distance_To_Roadways'        INT  required           \n",
       "'Slope'                                  INT  required           \n",
       "'Vertical_Distance_To_Hydrology'         INT  required           \n",
       "\n",
       "                                                   Domain  \n",
       "Feature name                                               \n",
       "'Cover_Type'                          'Cover_Type_domain'  \n",
       "'Elevation'                                             -  \n",
       "'Hillshade_9am'                          min: 0; max: 255  \n",
       "'Hillshade_Noon'                         min: 0; max: 255  \n",
       "'Horizontal_Distance_To_Fire_Points'                    -  \n",
       "'Horizontal_Distance_To_Hydrology'                      -  \n",
       "'Horizontal_Distance_To_Roadways'                       -  \n",
       "'Slope'                                   min: 0; max: 90  \n",
       "'Vertical_Distance_To_Hydrology'                        -  "
      ]
     },
     "metadata": {},
     "output_type": "display_data"
    },
    {
     "data": {
      "text/html": [
       "<div>\n",
       "<style scoped>\n",
       "    .dataframe tbody tr th:only-of-type {\n",
       "        vertical-align: middle;\n",
       "    }\n",
       "\n",
       "    .dataframe tbody tr th {\n",
       "        vertical-align: top;\n",
       "    }\n",
       "\n",
       "    .dataframe thead th {\n",
       "        text-align: right;\n",
       "    }\n",
       "</style>\n",
       "<table border=\"1\" class=\"dataframe\">\n",
       "  <thead>\n",
       "    <tr style=\"text-align: right;\">\n",
       "      <th></th>\n",
       "      <th>Values</th>\n",
       "    </tr>\n",
       "    <tr>\n",
       "      <th>Domain</th>\n",
       "      <th></th>\n",
       "    </tr>\n",
       "  </thead>\n",
       "  <tbody>\n",
       "    <tr>\n",
       "      <th>'Cover_Type_domain'</th>\n",
       "      <td>'0', '1', '2', '3', '4', '5', '6'</td>\n",
       "    </tr>\n",
       "  </tbody>\n",
       "</table>\n",
       "</div>"
      ],
      "text/plain": [
       "                                                Values\n",
       "Domain                                                \n",
       "'Cover_Type_domain'  '0', '1', '2', '3', '4', '5', '6'"
      ]
     },
     "metadata": {},
     "output_type": "display_data"
    }
   ],
   "source": [
    "# 7. Verificar que el artifact ahora refleje el esquema actualizado\n",
    "print(\"\\nEsquema en el artifact después de la actualización:\")\n",
    "context.show(schema_gen.outputs['schema'])"
   ]
  },
  {
   "cell_type": "markdown",
   "id": "bdb3595d",
   "metadata": {},
   "source": [
    "**4.6 Entornos de esquema"
   ]
  },
  {
   "cell_type": "code",
   "execution_count": 41,
   "id": "fd66e005",
   "metadata": {
    "tags": []
   },
   "outputs": [
    {
     "name": "stdout",
     "output_type": "stream",
     "text": [
      "CSV de datos de SERVICIO generado en: data/serving_data.csv\n"
     ]
    }
   ],
   "source": [
    "from sklearn.model_selection import train_test_split\n",
    "\n",
    "# Definir rutas y variables\n",
    "data_root = Path(\"./data\")\n",
    "serving_csv_path = data_root / \"serving_data.csv\"\n",
    "schema_path = Path(\"./tfx_pipeline_output/SchemaGen/schema/13/schema.pbtxt\")\n",
    "\n",
    "# 1. Generar el CSV de SERVICIO (simula datos de inferencia sin etiqueta)\n",
    "def generate_serving_csv(df: pd.DataFrame, path: Path, target: str) -> str:\n",
    "    # Dividir: 70% entrena, 30% de los datos para SERVICIO.\n",
    "    _, serving_df = train_test_split(df, test_size=0.3, random_state=42)\n",
    "    # Eliminar la columna de la etiqueta para simular datos de inferencia\n",
    "    serving_df = serving_df.drop(columns=[target])\n",
    "    # Guardar el DataFrame en CSV\n",
    "    serving_df.to_csv(path, index=False)\n",
    "    return str(path)\n",
    "\n",
    "# Generar el archivo CSV de datos de servicio\n",
    "serving_data = generate_serving_csv(final_df, serving_csv_path, target=\"Cover_Type\")\n",
    "print(\"CSV de datos de SERVICIO generado en:\", serving_data)"
   ]
  },
  {
   "cell_type": "code",
   "execution_count": 42,
   "id": "c9c50b33",
   "metadata": {
    "tags": []
   },
   "outputs": [
    {
     "name": "stdout",
     "output_type": "stream",
     "text": [
      "Esquema actualizado y guardado en: tfx_pipeline_output/SchemaGen/schema/13/schema.pbtxt\n"
     ]
    },
    {
     "data": {
      "text/html": [
       "<div>\n",
       "<style scoped>\n",
       "    .dataframe tbody tr th:only-of-type {\n",
       "        vertical-align: middle;\n",
       "    }\n",
       "\n",
       "    .dataframe tbody tr th {\n",
       "        vertical-align: top;\n",
       "    }\n",
       "\n",
       "    .dataframe thead th {\n",
       "        text-align: right;\n",
       "    }\n",
       "</style>\n",
       "<table border=\"1\" class=\"dataframe\">\n",
       "  <thead>\n",
       "    <tr style=\"text-align: right;\">\n",
       "      <th></th>\n",
       "      <th>Type</th>\n",
       "      <th>Presence</th>\n",
       "      <th>Valency</th>\n",
       "      <th>Domain</th>\n",
       "    </tr>\n",
       "    <tr>\n",
       "      <th>Feature name</th>\n",
       "      <th></th>\n",
       "      <th></th>\n",
       "      <th></th>\n",
       "      <th></th>\n",
       "    </tr>\n",
       "  </thead>\n",
       "  <tbody>\n",
       "    <tr>\n",
       "      <th>'Cover_Type'</th>\n",
       "      <td>STRING</td>\n",
       "      <td>required</td>\n",
       "      <td></td>\n",
       "      <td>'Cover_Type_domain'</td>\n",
       "    </tr>\n",
       "    <tr>\n",
       "      <th>'Elevation'</th>\n",
       "      <td>INT</td>\n",
       "      <td>required</td>\n",
       "      <td></td>\n",
       "      <td>-</td>\n",
       "    </tr>\n",
       "    <tr>\n",
       "      <th>'Hillshade_9am'</th>\n",
       "      <td>INT</td>\n",
       "      <td>required</td>\n",
       "      <td></td>\n",
       "      <td>min: 0; max: 255</td>\n",
       "    </tr>\n",
       "    <tr>\n",
       "      <th>'Hillshade_Noon'</th>\n",
       "      <td>INT</td>\n",
       "      <td>required</td>\n",
       "      <td></td>\n",
       "      <td>min: 0; max: 255</td>\n",
       "    </tr>\n",
       "    <tr>\n",
       "      <th>'Horizontal_Distance_To_Fire_Points'</th>\n",
       "      <td>INT</td>\n",
       "      <td>required</td>\n",
       "      <td></td>\n",
       "      <td>-</td>\n",
       "    </tr>\n",
       "    <tr>\n",
       "      <th>'Horizontal_Distance_To_Hydrology'</th>\n",
       "      <td>INT</td>\n",
       "      <td>required</td>\n",
       "      <td></td>\n",
       "      <td>-</td>\n",
       "    </tr>\n",
       "    <tr>\n",
       "      <th>'Horizontal_Distance_To_Roadways'</th>\n",
       "      <td>INT</td>\n",
       "      <td>required</td>\n",
       "      <td></td>\n",
       "      <td>-</td>\n",
       "    </tr>\n",
       "    <tr>\n",
       "      <th>'Slope'</th>\n",
       "      <td>INT</td>\n",
       "      <td>required</td>\n",
       "      <td></td>\n",
       "      <td>min: 0; max: 90</td>\n",
       "    </tr>\n",
       "    <tr>\n",
       "      <th>'Vertical_Distance_To_Hydrology'</th>\n",
       "      <td>INT</td>\n",
       "      <td>required</td>\n",
       "      <td></td>\n",
       "      <td>-</td>\n",
       "    </tr>\n",
       "  </tbody>\n",
       "</table>\n",
       "</div>"
      ],
      "text/plain": [
       "                                        Type  Presence Valency  \\\n",
       "Feature name                                                     \n",
       "'Cover_Type'                          STRING  required           \n",
       "'Elevation'                              INT  required           \n",
       "'Hillshade_9am'                          INT  required           \n",
       "'Hillshade_Noon'                         INT  required           \n",
       "'Horizontal_Distance_To_Fire_Points'     INT  required           \n",
       "'Horizontal_Distance_To_Hydrology'       INT  required           \n",
       "'Horizontal_Distance_To_Roadways'        INT  required           \n",
       "'Slope'                                  INT  required           \n",
       "'Vertical_Distance_To_Hydrology'         INT  required           \n",
       "\n",
       "                                                   Domain  \n",
       "Feature name                                               \n",
       "'Cover_Type'                          'Cover_Type_domain'  \n",
       "'Elevation'                                             -  \n",
       "'Hillshade_9am'                          min: 0; max: 255  \n",
       "'Hillshade_Noon'                         min: 0; max: 255  \n",
       "'Horizontal_Distance_To_Fire_Points'                    -  \n",
       "'Horizontal_Distance_To_Hydrology'                      -  \n",
       "'Horizontal_Distance_To_Roadways'                       -  \n",
       "'Slope'                                   min: 0; max: 90  \n",
       "'Vertical_Distance_To_Hydrology'                        -  "
      ]
     },
     "metadata": {},
     "output_type": "display_data"
    },
    {
     "data": {
      "text/html": [
       "<div>\n",
       "<style scoped>\n",
       "    .dataframe tbody tr th:only-of-type {\n",
       "        vertical-align: middle;\n",
       "    }\n",
       "\n",
       "    .dataframe tbody tr th {\n",
       "        vertical-align: top;\n",
       "    }\n",
       "\n",
       "    .dataframe thead th {\n",
       "        text-align: right;\n",
       "    }\n",
       "</style>\n",
       "<table border=\"1\" class=\"dataframe\">\n",
       "  <thead>\n",
       "    <tr style=\"text-align: right;\">\n",
       "      <th></th>\n",
       "      <th>Values</th>\n",
       "    </tr>\n",
       "    <tr>\n",
       "      <th>Domain</th>\n",
       "      <th></th>\n",
       "    </tr>\n",
       "  </thead>\n",
       "  <tbody>\n",
       "    <tr>\n",
       "      <th>'Cover_Type_domain'</th>\n",
       "      <td>'0', '1', '2', '3', '4', '5', '6'</td>\n",
       "    </tr>\n",
       "  </tbody>\n",
       "</table>\n",
       "</div>"
      ],
      "text/plain": [
       "                                                Values\n",
       "Domain                                                \n",
       "'Cover_Type_domain'  '0', '1', '2', '3', '4', '5', '6'"
      ]
     },
     "metadata": {},
     "output_type": "display_data"
    }
   ],
   "source": [
    "import tensorflow_data_validation as tfdv\n",
    "\n",
    "# 2. Cargar el esquema curado (ya inferido y modificado en pasos anteriores)\n",
    "schema = tfdv.load_schema_text(str(schema_path))\n",
    "\n",
    "# 3. Configurar los entornos en el esquema (4.6)\n",
    "# Se agregan los entornos TRAINING y SERVING para diferenciar datos de entrenamiento de datos de inferencia.\n",
    "if 'TRAINING' not in schema.default_environment:\n",
    "    schema.default_environment.append('TRAINING')\n",
    "if 'SERVING' not in schema.default_environment:\n",
    "    schema.default_environment.append('SERVING')\n",
    "\n",
    "# Indicar que 'Cover_Type' (la etiqueta) NO se espera en SERVING.\n",
    "tfdv.get_feature(schema, 'Cover_Type').not_in_environment.append('SERVING')\n",
    "\n",
    "# Guardar el esquema actualizado para que los cambios sean persistentes.\n",
    "tfdv.write_schema_text(schema, str(schema_path))\n",
    "print(\"Esquema actualizado y guardado en:\", schema_path)\n",
    "tfdv.display_schema(schema)"
   ]
  },
  {
   "cell_type": "code",
   "execution_count": 43,
   "id": "a22da611",
   "metadata": {
    "tags": []
   },
   "outputs": [
    {
     "name": "stdout",
     "output_type": "stream",
     "text": [
      "Estadísticas generadas para SERVING DATA:\n"
     ]
    },
    {
     "data": {
      "text/html": [
       "<iframe id='facets-iframe' width=\"100%\" height=\"500px\"></iframe>\n",
       "        <script>\n",
       "        facets_iframe = document.getElementById('facets-iframe');\n",
       "        facets_html = '<script src=\"https://cdnjs.cloudflare.com/ajax/libs/webcomponentsjs/1.3.3/webcomponents-lite.js\"><\\/script><link rel=\"import\" href=\"https://raw.githubusercontent.com/PAIR-code/facets/master/facets-dist/facets-jupyter.html\"><facets-overview proto-input=\"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\"></facets-overview>';\n",
       "        facets_iframe.srcdoc = facets_html;\n",
       "         facets_iframe.id = \"\";\n",
       "         setTimeout(() => {\n",
       "           facets_iframe.setAttribute('height', facets_iframe.contentWindow.document.body.offsetHeight + 'px')\n",
       "         }, 1500)\n",
       "         </script>"
      ],
      "text/plain": [
       "<IPython.core.display.HTML object>"
      ]
     },
     "metadata": {},
     "output_type": "display_data"
    }
   ],
   "source": [
    "# 4. Generar estadísticas para el conjunto de datos de SERVICIO usando el esquema actualizado (4.7)\n",
    "options = tfdv.StatsOptions(schema=schema)\n",
    "serving_stats = tfdv.generate_statistics_from_csv(data_location=serving_data, stats_options=options)\n",
    "print(\"Estadísticas generadas para SERVING DATA:\")\n",
    "tfdv.visualize_statistics(serving_stats)\n"
   ]
  },
  {
   "cell_type": "code",
   "execution_count": 44,
   "id": "4305d96d",
   "metadata": {
    "tags": []
   },
   "outputs": [
    {
     "name": "stdout",
     "output_type": "stream",
     "text": [
      "Anomalías en SERVING DATA (sin entorno):\n"
     ]
    },
    {
     "data": {
      "text/html": [
       "<div>\n",
       "<style scoped>\n",
       "    .dataframe tbody tr th:only-of-type {\n",
       "        vertical-align: middle;\n",
       "    }\n",
       "\n",
       "    .dataframe tbody tr th {\n",
       "        vertical-align: top;\n",
       "    }\n",
       "\n",
       "    .dataframe thead th {\n",
       "        text-align: right;\n",
       "    }\n",
       "</style>\n",
       "<table border=\"1\" class=\"dataframe\">\n",
       "  <thead>\n",
       "    <tr style=\"text-align: right;\">\n",
       "      <th></th>\n",
       "      <th>Anomaly short description</th>\n",
       "      <th>Anomaly long description</th>\n",
       "    </tr>\n",
       "    <tr>\n",
       "      <th>Feature name</th>\n",
       "      <th></th>\n",
       "      <th></th>\n",
       "    </tr>\n",
       "  </thead>\n",
       "  <tbody>\n",
       "    <tr>\n",
       "      <th>'Cover_Type'</th>\n",
       "      <td>Column dropped</td>\n",
       "      <td>Column is completely missing</td>\n",
       "    </tr>\n",
       "  </tbody>\n",
       "</table>\n",
       "</div>"
      ],
      "text/plain": [
       "             Anomaly short description      Anomaly long description\n",
       "Feature name                                                        \n",
       "'Cover_Type'            Column dropped  Column is completely missing"
      ]
     },
     "metadata": {},
     "output_type": "display_data"
    }
   ],
   "source": [
    "# 5. Validar anomalías en los datos de SERVICIO\n",
    "# Validar sin especificar el entorno:\n",
    "serving_anomalies = tfdv.validate_statistics(statistics=serving_stats, schema=schema)\n",
    "print(\"Anomalías en SERVING DATA (sin entorno):\")\n",
    "tfdv.display_anomalies(serving_anomalies)"
   ]
  },
  {
   "cell_type": "code",
   "execution_count": 35,
   "id": "0ed18d02",
   "metadata": {
    "tags": []
   },
   "outputs": [
    {
     "name": "stdout",
     "output_type": "stream",
     "text": [
      "Anomalías en SERVING DATA (con entorno 'SERVING'):\n"
     ]
    },
    {
     "data": {
      "text/html": [
       "<h4 style=\"color:green;\">No anomalies found.</h4>"
      ],
      "text/plain": [
       "<IPython.core.display.HTML object>"
      ]
     },
     "metadata": {},
     "output_type": "display_data"
    }
   ],
   "source": [
    "# Validar especificando el entorno SERVING:\n",
    "serving_anomalies_with_env = tfdv.validate_statistics(statistics=serving_stats, schema=schema, environment='SERVING')\n",
    "print(\"Anomalías en SERVING DATA (con entorno 'SERVING'):\")\n",
    "tfdv.display_anomalies(serving_anomalies_with_env)"
   ]
  },
  {
   "cell_type": "code",
   "execution_count": 36,
   "id": "9e4df173",
   "metadata": {
    "tags": []
   },
   "outputs": [
    {
     "name": "stdout",
     "output_type": "stream",
     "text": [
      "['TRAINING', 'SERVING']\n"
     ]
    }
   ],
   "source": [
    "print(schema.default_environment)"
   ]
  },
  {
   "cell_type": "code",
   "execution_count": 45,
   "id": "7fa54f82",
   "metadata": {
    "tags": []
   },
   "outputs": [
    {
     "name": "stdout",
     "output_type": "stream",
     "text": [
      "feature {\n",
      "  name: \"Cover_Type\"\n",
      "  type: BYTES\n",
      "  string_domain {\n",
      "    value: \"0\"\n",
      "    value: \"1\"\n",
      "    value: \"2\"\n",
      "    value: \"3\"\n",
      "    value: \"4\"\n",
      "    value: \"5\"\n",
      "    value: \"6\"\n",
      "  }\n",
      "  presence {\n",
      "    min_fraction: 1.0\n",
      "    min_count: 1\n",
      "  }\n",
      "  not_in_environment: \"SERVING\"\n",
      "  shape {\n",
      "    dim {\n",
      "      size: 1\n",
      "    }\n",
      "  }\n",
      "}\n",
      "feature {\n",
      "  name: \"Elevation\"\n",
      "  type: INT\n",
      "  presence {\n",
      "    min_fraction: 1.0\n",
      "    min_count: 1\n",
      "  }\n",
      "  shape {\n",
      "    dim {\n",
      "      size: 1\n",
      "    }\n",
      "  }\n",
      "}\n",
      "feature {\n",
      "  name: \"Hillshade_9am\"\n",
      "  type: INT\n",
      "  int_domain {\n",
      "    min: 0\n",
      "    max: 255\n",
      "  }\n",
      "  presence {\n",
      "    min_fraction: 1.0\n",
      "    min_count: 1\n",
      "  }\n",
      "  shape {\n",
      "    dim {\n",
      "      size: 1\n",
      "    }\n",
      "  }\n",
      "}\n",
      "feature {\n",
      "  name: \"Hillshade_Noon\"\n",
      "  type: INT\n",
      "  int_domain {\n",
      "    min: 0\n",
      "    max: 255\n",
      "  }\n",
      "  presence {\n",
      "    min_fraction: 1.0\n",
      "    min_count: 1\n",
      "  }\n",
      "  shape {\n",
      "    dim {\n",
      "      size: 1\n",
      "    }\n",
      "  }\n",
      "}\n",
      "feature {\n",
      "  name: \"Horizontal_Distance_To_Fire_Points\"\n",
      "  type: INT\n",
      "  presence {\n",
      "    min_fraction: 1.0\n",
      "    min_count: 1\n",
      "  }\n",
      "  shape {\n",
      "    dim {\n",
      "      size: 1\n",
      "    }\n",
      "  }\n",
      "}\n",
      "feature {\n",
      "  name: \"Horizontal_Distance_To_Hydrology\"\n",
      "  type: INT\n",
      "  presence {\n",
      "    min_fraction: 1.0\n",
      "    min_count: 1\n",
      "  }\n",
      "  shape {\n",
      "    dim {\n",
      "      size: 1\n",
      "    }\n",
      "  }\n",
      "}\n",
      "feature {\n",
      "  name: \"Horizontal_Distance_To_Roadways\"\n",
      "  type: INT\n",
      "  presence {\n",
      "    min_fraction: 1.0\n",
      "    min_count: 1\n",
      "  }\n",
      "  shape {\n",
      "    dim {\n",
      "      size: 1\n",
      "    }\n",
      "  }\n",
      "}\n",
      "feature {\n",
      "  name: \"Slope\"\n",
      "  type: INT\n",
      "  int_domain {\n",
      "    min: 0\n",
      "    max: 90\n",
      "  }\n",
      "  presence {\n",
      "    min_fraction: 1.0\n",
      "    min_count: 1\n",
      "  }\n",
      "  shape {\n",
      "    dim {\n",
      "      size: 1\n",
      "    }\n",
      "  }\n",
      "}\n",
      "feature {\n",
      "  name: \"Vertical_Distance_To_Hydrology\"\n",
      "  type: INT\n",
      "  presence {\n",
      "    min_fraction: 1.0\n",
      "    min_count: 1\n",
      "  }\n",
      "  shape {\n",
      "    dim {\n",
      "      size: 1\n",
      "    }\n",
      "  }\n",
      "}\n",
      "default_environment: \"TRAINING\"\n",
      "default_environment: \"SERVING\"\n",
      "\n"
     ]
    }
   ],
   "source": [
    "print(schema)"
   ]
  },
  {
   "cell_type": "code",
   "execution_count": 46,
   "id": "b565ea42",
   "metadata": {
    "tags": []
   },
   "outputs": [
    {
     "data": {
      "text/html": [
       "<div>\n",
       "<style scoped>\n",
       "    .dataframe tbody tr th:only-of-type {\n",
       "        vertical-align: middle;\n",
       "    }\n",
       "\n",
       "    .dataframe tbody tr th {\n",
       "        vertical-align: top;\n",
       "    }\n",
       "\n",
       "    .dataframe thead th {\n",
       "        text-align: right;\n",
       "    }\n",
       "</style>\n",
       "<table border=\"1\" class=\"dataframe\">\n",
       "  <thead>\n",
       "    <tr style=\"text-align: right;\">\n",
       "      <th></th>\n",
       "      <th>Type</th>\n",
       "      <th>Presence</th>\n",
       "      <th>Valency</th>\n",
       "      <th>Domain</th>\n",
       "    </tr>\n",
       "    <tr>\n",
       "      <th>Feature name</th>\n",
       "      <th></th>\n",
       "      <th></th>\n",
       "      <th></th>\n",
       "      <th></th>\n",
       "    </tr>\n",
       "  </thead>\n",
       "  <tbody>\n",
       "    <tr>\n",
       "      <th>'Cover_Type'</th>\n",
       "      <td>STRING</td>\n",
       "      <td>required</td>\n",
       "      <td></td>\n",
       "      <td>'Cover_Type_domain'</td>\n",
       "    </tr>\n",
       "    <tr>\n",
       "      <th>'Elevation'</th>\n",
       "      <td>INT</td>\n",
       "      <td>required</td>\n",
       "      <td></td>\n",
       "      <td>-</td>\n",
       "    </tr>\n",
       "    <tr>\n",
       "      <th>'Hillshade_9am'</th>\n",
       "      <td>INT</td>\n",
       "      <td>required</td>\n",
       "      <td></td>\n",
       "      <td>min: 0; max: 255</td>\n",
       "    </tr>\n",
       "    <tr>\n",
       "      <th>'Hillshade_Noon'</th>\n",
       "      <td>INT</td>\n",
       "      <td>required</td>\n",
       "      <td></td>\n",
       "      <td>min: 0; max: 255</td>\n",
       "    </tr>\n",
       "    <tr>\n",
       "      <th>'Horizontal_Distance_To_Fire_Points'</th>\n",
       "      <td>INT</td>\n",
       "      <td>required</td>\n",
       "      <td></td>\n",
       "      <td>-</td>\n",
       "    </tr>\n",
       "    <tr>\n",
       "      <th>'Horizontal_Distance_To_Hydrology'</th>\n",
       "      <td>INT</td>\n",
       "      <td>required</td>\n",
       "      <td></td>\n",
       "      <td>-</td>\n",
       "    </tr>\n",
       "    <tr>\n",
       "      <th>'Horizontal_Distance_To_Roadways'</th>\n",
       "      <td>INT</td>\n",
       "      <td>required</td>\n",
       "      <td></td>\n",
       "      <td>-</td>\n",
       "    </tr>\n",
       "    <tr>\n",
       "      <th>'Slope'</th>\n",
       "      <td>INT</td>\n",
       "      <td>required</td>\n",
       "      <td></td>\n",
       "      <td>min: 0; max: 90</td>\n",
       "    </tr>\n",
       "    <tr>\n",
       "      <th>'Vertical_Distance_To_Hydrology'</th>\n",
       "      <td>INT</td>\n",
       "      <td>required</td>\n",
       "      <td></td>\n",
       "      <td>-</td>\n",
       "    </tr>\n",
       "  </tbody>\n",
       "</table>\n",
       "</div>"
      ],
      "text/plain": [
       "                                        Type  Presence Valency  \\\n",
       "Feature name                                                     \n",
       "'Cover_Type'                          STRING  required           \n",
       "'Elevation'                              INT  required           \n",
       "'Hillshade_9am'                          INT  required           \n",
       "'Hillshade_Noon'                         INT  required           \n",
       "'Horizontal_Distance_To_Fire_Points'     INT  required           \n",
       "'Horizontal_Distance_To_Hydrology'       INT  required           \n",
       "'Horizontal_Distance_To_Roadways'        INT  required           \n",
       "'Slope'                                  INT  required           \n",
       "'Vertical_Distance_To_Hydrology'         INT  required           \n",
       "\n",
       "                                                   Domain  \n",
       "Feature name                                               \n",
       "'Cover_Type'                          'Cover_Type_domain'  \n",
       "'Elevation'                                             -  \n",
       "'Hillshade_9am'                          min: 0; max: 255  \n",
       "'Hillshade_Noon'                         min: 0; max: 255  \n",
       "'Horizontal_Distance_To_Fire_Points'                    -  \n",
       "'Horizontal_Distance_To_Hydrology'                      -  \n",
       "'Horizontal_Distance_To_Roadways'                       -  \n",
       "'Slope'                                   min: 0; max: 90  \n",
       "'Vertical_Distance_To_Hydrology'                        -  "
      ]
     },
     "metadata": {},
     "output_type": "display_data"
    },
    {
     "data": {
      "text/html": [
       "<div>\n",
       "<style scoped>\n",
       "    .dataframe tbody tr th:only-of-type {\n",
       "        vertical-align: middle;\n",
       "    }\n",
       "\n",
       "    .dataframe tbody tr th {\n",
       "        vertical-align: top;\n",
       "    }\n",
       "\n",
       "    .dataframe thead th {\n",
       "        text-align: right;\n",
       "    }\n",
       "</style>\n",
       "<table border=\"1\" class=\"dataframe\">\n",
       "  <thead>\n",
       "    <tr style=\"text-align: right;\">\n",
       "      <th></th>\n",
       "      <th>Values</th>\n",
       "    </tr>\n",
       "    <tr>\n",
       "      <th>Domain</th>\n",
       "      <th></th>\n",
       "    </tr>\n",
       "  </thead>\n",
       "  <tbody>\n",
       "    <tr>\n",
       "      <th>'Cover_Type_domain'</th>\n",
       "      <td>'0', '1', '2', '3', '4', '5', '6'</td>\n",
       "    </tr>\n",
       "  </tbody>\n",
       "</table>\n",
       "</div>"
      ],
      "text/plain": [
       "                                                Values\n",
       "Domain                                                \n",
       "'Cover_Type_domain'  '0', '1', '2', '3', '4', '5', '6'"
      ]
     },
     "metadata": {},
     "output_type": "display_data"
    }
   ],
   "source": [
    "tfdv.display_schema(schema)"
   ]
  },
  {
   "cell_type": "markdown",
   "id": "a8d26aa9",
   "metadata": {},
   "source": [
    "** 4.7 Generar nuevas estadísticas usando el esquema curado\n",
    "\n",
    "Una vez que hayas curado (ajustado) el esquema, es buena idea recalcular las estadísticas utilizando ese esquema para que las visualizaciones y validaciones se basen en el esquema definitivo."
   ]
  },
  {
   "cell_type": "code",
   "execution_count": null,
   "id": "d2d83859",
   "metadata": {},
   "outputs": [],
   "source": [
    "# Instance SchemaGen with the StattisticsGen ingested dataset\n",
    "path_local_schema = data_root.parent / \"schema_entornos.pbtxt\"\n",
    "chema_gen_2 = ImportSchema(schema_file=str(path_local_schema))\n",
    "\n",
    "#Run the component\n",
    "context.run(schema_gen_2)\n",
    "\n",
    "print('SchemaGen OK\")\n",
    "\n",
    "\n",
    "\n",
    "# Supongamos que ya actualizaste manualmente el esquema y lo guardaste; \n",
    "# Si lo tienes disponible en el artifact de SchemaGen, puedes usarlo directamente:\n",
    "statistics_gen_updated = StatisticsGen(\n",
    "    examples=example_gen.outputs['examples'],\n",
    "    schema=schema_gen.outputs['schema']\n",
    ")\n",
    "\n",
    "context.run(statistics_gen_updated)\n",
    "\n",
    "print(\"StatisticsGen (con esquema actualizado) ejecutado correctamente\")"
   ]
  },
  {
   "cell_type": "markdown",
   "id": "2330e052",
   "metadata": {},
   "source": [
    "** 4.8 Comprobar anomalías (ExampleValidator)\n",
    "\n",
    "Ahora, utiliza ExampleValidator para detectar posibles anomalías en los datos comparándolos contra el esquema curado."
   ]
  },
  {
   "cell_type": "code",
   "execution_count": null,
   "id": "c2074954",
   "metadata": {},
   "outputs": [],
   "source": [
    "from tfx.components import ExampleValidator\n",
    "\n",
    "# Instanciar ExampleValidator utilizando las estadísticas (actualizadas) y el esquema curado\n",
    "example_validator = ExampleValidator(\n",
    "    statistics=statistics_gen_updated.outputs['statistics'],\n",
    "    schema=schema_gen.outputs['schema']\n",
    ")\n",
    "\n",
    "# Ejecutar el componente\n",
    "context.run(example_validator)\n",
    "\n",
    "print(\"ExampleValidator ejecutado correctamente\")"
   ]
  },
  {
   "cell_type": "markdown",
   "id": "8a5992e3",
   "metadata": {},
   "source": [
    "** 4.9 Ingeniería de características y Transformación (Transform)\n",
    "\n",
    "En este paso se realiza el preprocesamiento y transformación de los datos (por ejemplo, escalado, codificación, etc.) para que estén listos para el entrenamiento del modelo. Para ello se utiliza el componente Transform de TFX. Debes tener definida una función de preprocesamiento (por ejemplo, preprocessing_fn) en un archivo (por ejemplo, preprocessing.py)."
   ]
  },
  {
   "cell_type": "code",
   "execution_count": null,
   "id": "e0f33110",
   "metadata": {
    "tags": []
   },
   "outputs": [],
   "source": [
    "from tfx.components import Transform\n",
    "import os\n",
    "\n",
    "# Supongamos que has definido una función de preprocesamiento en el archivo 'preprocessing.py'\n",
    "# Asegúrate de tener ese archivo en tu directorio actual.\n",
    "\n",
    "transform = Transform(\n",
    "    examples=example_gen.outputs['examples'],\n",
    "    schema=schema_gen.outputs['schema'],\n",
    "    module_file=os.path.join(os.getcwd(), \"preprocessing.py\")  # Aquí debe estar tu función preprocessing_fn\n",
    ")\n",
    "\n",
    "context.run(transform)\n",
    "\n",
    "print(\"Transform ejecutado correctamente\")"
   ]
  }
 ],
 "metadata": {
  "kernelspec": {
   "display_name": "Python 3 (ipykernel)",
   "language": "python",
   "name": "python3"
  },
  "language_info": {
   "codemirror_mode": {
    "name": "ipython",
    "version": 3
   },
   "file_extension": ".py",
   "mimetype": "text/x-python",
   "name": "python",
   "nbconvert_exporter": "python",
   "pygments_lexer": "ipython3",
   "version": "3.9.21"
  }
 },
 "nbformat": 4,
 "nbformat_minor": 5
}
