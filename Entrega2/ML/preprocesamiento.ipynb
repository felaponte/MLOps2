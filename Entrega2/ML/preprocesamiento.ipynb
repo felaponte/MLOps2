{
 "cells": [
  {
   "cell_type": "code",
   "execution_count": null,
   "metadata": {},
   "outputs": [],
   "source": [
    "import pandas as pd\n",
    "from sklearn.model_selection import train_test_split\n",
    "import numpy as np\n",
    "\n",
    "# Cargar el dataset\n",
    "df = pd.read_csv(\"penguins_lter.csv\")\n",
    "\n",
    "# Convertir \"Date Egg\" a día del año (1 a 365), manejando posibles NaN\n",
    "df[\"Date Egg\"] = pd.to_datetime(df[\"Date Egg\"], errors=\"coerce\").dt.dayofyear\n",
    "df[\"Date Egg\"].fillna(df[\"Date Egg\"].median(), inplace=True)  # Rellenar con la mediana\n",
    "\n",
    "# Eliminar columnas irrelevantes\n",
    "df.drop(columns=[\"studyName\", \"Sample Number\", \"Individual ID\", \"Comments\"], inplace=True)\n",
    "\n",
    "# Manejar valores nulos en columnas numéricas (rellenar con la media)\n",
    "num_cols = [\"Culmen Length (mm)\", \"Culmen Depth (mm)\", \"Flipper Length (mm)\", \"Body Mass (g)\", \"Delta 15 N (o/oo)\", \"Delta 13 C (o/oo)\"]\n",
    "for col in num_cols:\n",
    "    df[col].fillna(df[col].mean(), inplace=True)\n",
    "\n",
    "# Manejar valores nulos en columnas categóricas (rellenar con \"Desconocido\")\n",
    "cat_cols = [\"Species\", \"Region\", \"Island\", \"Stage\", \"Clutch Completion\", \"Sex\"]\n",
    "for col in cat_cols:\n",
    "    df[col].fillna(\"Desconocido\", inplace=True)\n",
    "\n",
    "# Convertir variables categóricas en numéricas (One-Hot Encoding)\n",
    "df = pd.get_dummies(df, columns=cat_cols, drop_first=True)\n",
    "\n",
    "# Separar variables predictoras (X) y la variable objetivo (y)\n",
    "X = df[[\"Culmen Length (mm)\", \"Culmen Depth (mm)\", \"Flipper Length (mm)\"]]  # Solo columnas relevantes\n",
    "y = df[\"Body Mass (g)\"]\n",
    "\n",
    "# Dividir en conjunto de entrenamiento y prueba (80%-20%)\n",
    "X_train, X_test, y_train, y_test = train_test_split(X, y, test_size=0.2, random_state=42)\n",
    "\n",
    "# Guardar los datos procesados en archivos CSV para entrenar modelos\n",
    "X_train.to_csv(\"./data/X_train.csv\", index=False)\n",
    "X_test.to_csv(\"./data/X_test.csv\", index=False)\n",
    "y_train.to_csv(\"./data/y_train.csv\", index=False)\n",
    "y_test.to_csv(\"./data/y_test.csv\", index=False)\n",
    "\n",
    "print(\"Preprocesamiento completo. Datos guardados.\")"
   ]
  }
 ],
 "metadata": {
  "language_info": {
   "name": "python"
  }
 },
 "nbformat": 4,
 "nbformat_minor": 2
}
