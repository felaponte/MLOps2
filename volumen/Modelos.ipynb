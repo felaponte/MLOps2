{
 "cells": [
  {
   "cell_type": "code",
   "execution_count": 1,
   "id": "d312cf89-caef-44ed-b4cf-14e91cac5561",
   "metadata": {},
   "outputs": [],
   "source": [
    "import pandas as pd\n",
    "import numpy as np\n",
    "from sklearn.ensemble import RandomForestRegressor, GradientBoostingRegressor\n",
    "from sklearn.metrics import mean_squared_error\n",
    "import joblib"
   ]
  },
  {
   "cell_type": "code",
   "execution_count": 4,
   "id": "2beff736-46a4-4ce7-b9da-0a8b146dab44",
   "metadata": {},
   "outputs": [
    {
     "name": "stdout",
     "output_type": "stream",
     "text": [
      "\u001b[33mWARNING: Package(s) not found: sklearn\u001b[0m\u001b[33m\n",
      "\u001b[0m"
     ]
    }
   ],
   "source": []
  },
  {
   "cell_type": "code",
   "execution_count": 2,
   "id": "11d5cb9d-1711-47f5-9f7b-b34bd797a6ec",
   "metadata": {},
   "outputs": [],
   "source": [
    "# Cargar los datos preprocesados\n",
    "X_train = pd.read_csv(\"X_train.csv\")\n",
    "X_test = pd.read_csv(\"X_test.csv\")\n",
    "y_train = pd.read_csv(\"y_train.csv\").values.ravel()  # Convertir a 1D\n",
    "y_test = pd.read_csv(\"y_test.csv\").values.ravel()"
   ]
  },
  {
   "cell_type": "code",
   "execution_count": 3,
   "id": "069df4df-ba49-429a-8d96-c75b494ea9d5",
   "metadata": {},
   "outputs": [
    {
     "name": "stdout",
     "output_type": "stream",
     "text": [
      "\n",
      " Entrenando RandomForestRegressor...\n",
      " RMSE (Random Forest): 374.19810455944327\n"
     ]
    },
    {
     "data": {
      "text/plain": [
       "['random_forest.pkl']"
      ]
     },
     "execution_count": 3,
     "metadata": {},
     "output_type": "execute_result"
    }
   ],
   "source": [
    "# Entrenar el modelo RandomForestRegressor\n",
    "print(\"\\n Entrenando RandomForestRegressor...\")\n",
    "rf_model = RandomForestRegressor(n_estimators=200, max_depth=10, random_state=42)\n",
    "rf_model.fit(X_train, y_train)\n",
    "\n",
    "# Hacer predicciones\n",
    "y_pred_rf = rf_model.predict(X_test)\n",
    "\n",
    "# Calcular RMSE\n",
    "rmse_rf = mean_squared_error(y_test, y_pred_rf) ** 0.5  # Raíz cuadrada para obtener RMSE\n",
    "print(f\" RMSE (Random Forest): {rmse_rf}\")\n",
    "\n",
    "# Guardar el modelo en carpeta volumen\n",
    "joblib.dump(rf_model, \"random_forest.pkl\")"
   ]
  },
  {
   "cell_type": "code",
   "execution_count": 4,
   "id": "e5ade6b4-da9e-4086-be47-671f0ede9d41",
   "metadata": {},
   "outputs": [
    {
     "name": "stdout",
     "output_type": "stream",
     "text": [
      "\n",
      " Entrenando GradientBoostingRegressor...\n",
      " RMSE (Gradient Boosting): 405.0582548258481\n"
     ]
    },
    {
     "data": {
      "text/plain": [
       "['gradient_boosting.pkl']"
      ]
     },
     "execution_count": 4,
     "metadata": {},
     "output_type": "execute_result"
    }
   ],
   "source": [
    "# Entrenar el modelo GradientBoostingRegressor\n",
    "print(\"\\n Entrenando GradientBoostingRegressor...\")\n",
    "gb_model = GradientBoostingRegressor(n_estimators=200, learning_rate=0.1, max_depth=5, random_state=42)\n",
    "gb_model.fit(X_train, y_train)\n",
    "\n",
    "# Hacer predicciones\n",
    "y_pred_gb = gb_model.predict(X_test)\n",
    "\n",
    "# Calcular RMSE\n",
    "rmse_gb = mean_squared_error(y_test, y_pred_gb)**0.5\n",
    "print(f\" RMSE (Gradient Boosting): {rmse_gb}\")\n",
    "\n",
    "# Guardar el modelo en carpeta volumen\n",
    "joblib.dump(gb_model, \"gradient_boosting.pkl\")"
   ]
  },
  {
   "cell_type": "code",
   "execution_count": 3,
   "id": "657785f9-8923-417b-b4a4-cf7381c3346e",
   "metadata": {},
   "outputs": [
    {
     "name": "stdout",
     "output_type": "stream",
     "text": [
      "\n",
      " Entrenando GradientBoostingRegressor...\n",
      " RMSE (Gradient Boosting): 405.0582548258481\n"
     ]
    },
    {
     "data": {
      "text/plain": [
       "['gradient_boosting2.pkl']"
      ]
     },
     "execution_count": 3,
     "metadata": {},
     "output_type": "execute_result"
    }
   ],
   "source": [
    "#mismo modelo de gb, para testear que todo funcione con el volumen\n",
    "# Entrenar el modelo GradientBoostingRegressor\n",
    "print(\"\\n Entrenando GradientBoostingRegressor...\")\n",
    "gb_model = GradientBoostingRegressor(n_estimators=200, learning_rate=0.1, max_depth=5, random_state=42)\n",
    "gb_model.fit(X_train, y_train)\n",
    "\n",
    "# Hacer predicciones\n",
    "y_pred_gb = gb_model.predict(X_test)\n",
    "\n",
    "# Calcular RMSE\n",
    "rmse_gb = mean_squared_error(y_test, y_pred_gb)**0.5\n",
    "print(f\" RMSE (Gradient Boosting): {rmse_gb}\")\n",
    "\n",
    "# Guardar el modelo en carpeta volumen\n",
    "joblib.dump(gb_model, \"gradient_boosting2.pkl\")"
   ]
  },
  {
   "cell_type": "code",
   "execution_count": 14,
   "id": "6ce08bb2-5fe9-426a-8caa-40ec4001cb8e",
   "metadata": {},
   "outputs": [
    {
     "name": "stdout",
     "output_type": "stream",
     "text": [
      "\n",
      " Comparación de Modelos:\n",
      " RMSE Random Forest: 374.19810455944327\n",
      " RMSE Gradient Boosting: 405.0582548258481\n",
      "\n",
      " ¡Random Forest es mejor! Usaremos `modelo_rf.pkl`\n"
     ]
    }
   ],
   "source": [
    "# # Comparar resultados\n",
    "# print(\"\\n Comparación de Modelos:\")\n",
    "# print(f\" RMSE Random Forest: {rmse_rf}\")\n",
    "# print(f\" RMSE Gradient Boosting: {rmse_gb}\")\n",
    "\n",
    "# if rmse_gb < rmse_rf:\n",
    "#     print(\"\\n ¡Gradient Boosting es mejor! Usaremos `modelo_gb.pkl`\")\n",
    "# else:\n",
    "#     print(\"\\n ¡Random Forest es mejor! Usaremos `modelo_rf.pkl`\")"
   ]
  }
 ],
 "metadata": {
  "kernelspec": {
   "display_name": "Python 3 (ipykernel)",
   "language": "python",
   "name": "python3"
  },
  "language_info": {
   "codemirror_mode": {
    "name": "ipython",
    "version": 3
   },
   "file_extension": ".py",
   "mimetype": "text/x-python",
   "name": "python",
   "nbconvert_exporter": "python",
   "pygments_lexer": "ipython3",
   "version": "3.12.3"
  }
 },
 "nbformat": 4,
 "nbformat_minor": 5
}
